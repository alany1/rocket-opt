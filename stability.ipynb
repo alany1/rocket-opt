{
 "cells": [
  {
   "cell_type": "code",
   "execution_count": 137,
   "id": "1c177ad1",
   "metadata": {},
   "outputs": [],
   "source": [
    "import numpy as np\n",
    "import pandas as pd\n",
    "from sklearn.linear_model import LogisticRegression as LR\n",
    "from matplotlib import pyplot as plt\n",
    "from tools import *\n",
    "from sklearn.decomposition import PCA\n",
    "import plotly.express as px"
   ]
  },
  {
   "cell_type": "code",
   "execution_count": 8,
   "id": "0bc5e1ae",
   "metadata": {},
   "outputs": [],
   "source": [
    "reg = LR()\n"
   ]
  },
  {
   "cell_type": "code",
   "execution_count": 10,
   "id": "4b2cedad",
   "metadata": {},
   "outputs": [],
   "source": [
    "# Features\n",
    "# Span, Chord, Sweep, Tip (x2); weight, altitude, stability. \n",
    "# Interactions: later."
   ]
  },
  {
   "cell_type": "code",
   "execution_count": 96,
   "id": "fff1d134",
   "metadata": {},
   "outputs": [],
   "source": [
    "def getObs(n):\n",
    "    obs = {}\n",
    "    for i in range(n):\n",
    "        try:\n",
    "            df = pd.read_csv(f'rocket-results/{i}.csv')\n",
    "        except:\n",
    "            print('Missing', i)\n",
    "        obs[i] = df\n",
    "    return obs"
   ]
  },
  {
   "cell_type": "code",
   "execution_count": 78,
   "id": "69ab7cd0",
   "metadata": {},
   "outputs": [],
   "source": [
    "tot = 0\n",
    "count = 0\n",
    "for i in range(400):\n",
    "    try:\n",
    "        df = pd.read_csv(f'rocket-results/{i}.csv')\n",
    "    except:\n",
    "        continue\n",
    "    if 90 > df.max()['Time (sec)'] > 20:\n",
    "        print(i)"
   ]
  },
  {
   "cell_type": "code",
   "execution_count": 75,
   "id": "0d9f73bf",
   "metadata": {},
   "outputs": [
    {
     "data": {
      "text/plain": [
       "18493.71"
      ]
     },
     "execution_count": 75,
     "metadata": {},
     "output_type": "execute_result"
    }
   ],
   "source": [
    "df.max()['Altitude (ft)']"
   ]
  },
  {
   "cell_type": "code",
   "execution_count": 76,
   "id": "69ec4214",
   "metadata": {},
   "outputs": [
    {
     "data": {
      "text/plain": [
       "[<matplotlib.lines.Line2D at 0x1688235e0>]"
      ]
     },
     "execution_count": 76,
     "metadata": {},
     "output_type": "execute_result"
    },
    {
     "data": {
      "image/png": "[encoded data removed]",
      "text/plain": [
       "<Figure size 640x480 with 1 Axes>"
      ]
     },
     "metadata": {},
     "output_type": "display_data"
    }
   ],
   "source": [
    "plt.plot(df['Time (sec)'], df['Stability Margin (cal)'])"
   ]
  },
  {
   "cell_type": "code",
   "execution_count": 79,
   "id": "3ee649ec",
   "metadata": {},
   "outputs": [],
   "source": [
    "# use time to classify stability"
   ]
  },
  {
   "cell_type": "code",
   "execution_count": 94,
   "id": "f03feff8",
   "metadata": {},
   "outputs": [],
   "source": [
    "def initializeConfig():\n",
    "    configs = {}\n",
    "    with open('sample_list.pkl', 'rb') as f:\n",
    "        d = pickle.load(f)\n",
    "    configs.update(d)\n",
    "    with open('sample_list_100.pkl', 'rb') as f:\n",
    "        d = pickle.load(f)\n",
    "    configs.update(d)\n",
    "    with open('sample_list_200.pkl', 'rb') as f:\n",
    "        d = pickle.load(f)\n",
    "    configs.update(d)\n",
    "    with open('sample_list_300.pkl', 'rb') as f:\n",
    "        d = pickle.load(f)\n",
    "    configs.update(d)\n",
    "    return configs"
   ]
  },
  {
   "cell_type": "code",
   "execution_count": 100,
   "id": "6ffb3afc",
   "metadata": {},
   "outputs": [],
   "source": [
    "config = initializeConfig()\n",
    "obs = getObs(400)"
   ]
  },
  {
   "cell_type": "code",
   "execution_count": 227,
   "id": "aaf637db",
   "metadata": {},
   "outputs": [
    {
     "data": {
      "text/html": [
       "<div>\n",
       "<style scoped>\n",
       "    .dataframe tbody tr th:only-of-type {\n",
       "        vertical-align: middle;\n",
       "    }\n",
       "\n",
       "    .dataframe tbody tr th {\n",
       "        vertical-align: top;\n",
       "    }\n",
       "\n",
       "    .dataframe thead th {\n",
       "        text-align: right;\n",
       "    }\n",
       "</style>\n",
       "<table border=\"1\" class=\"dataframe\">\n",
       "  <thead>\n",
       "    <tr style=\"text-align: right;\">\n",
       "      <th></th>\n",
       "      <th>0</th>\n",
       "      <th>1</th>\n",
       "      <th>2</th>\n",
       "      <th>3</th>\n",
       "      <th>4</th>\n",
       "      <th>5</th>\n",
       "      <th>6</th>\n",
       "      <th>7</th>\n",
       "      <th>8</th>\n",
       "      <th>9</th>\n",
       "      <th>10</th>\n",
       "    </tr>\n",
       "  </thead>\n",
       "  <tbody>\n",
       "    <tr>\n",
       "      <th>0</th>\n",
       "      <td>9.465233</td>\n",
       "      <td>9.191411</td>\n",
       "      <td>6.313146</td>\n",
       "      <td>6.181568</td>\n",
       "      <td>4.253219</td>\n",
       "      <td>3.362766</td>\n",
       "      <td>2.004250</td>\n",
       "      <td>3.767645</td>\n",
       "      <td>0.004903</td>\n",
       "      <td>-5.119238</td>\n",
       "      <td>0.0100</td>\n",
       "    </tr>\n",
       "    <tr>\n",
       "      <th>1</th>\n",
       "      <td>5.050903</td>\n",
       "      <td>2.807665</td>\n",
       "      <td>7.250966</td>\n",
       "      <td>4.202998</td>\n",
       "      <td>7.871765</td>\n",
       "      <td>6.329711</td>\n",
       "      <td>3.563606</td>\n",
       "      <td>6.148326</td>\n",
       "      <td>77117.160000</td>\n",
       "      <td>9.322933</td>\n",
       "      <td>154.9973</td>\n",
       "    </tr>\n",
       "    <tr>\n",
       "      <th>2</th>\n",
       "      <td>8.796076</td>\n",
       "      <td>5.131824</td>\n",
       "      <td>8.469040</td>\n",
       "      <td>8.168441</td>\n",
       "      <td>6.226139</td>\n",
       "      <td>7.792487</td>\n",
       "      <td>6.816335</td>\n",
       "      <td>8.795342</td>\n",
       "      <td>51216.000000</td>\n",
       "      <td>6.846969</td>\n",
       "      <td>125.0071</td>\n",
       "    </tr>\n",
       "    <tr>\n",
       "      <th>3</th>\n",
       "      <td>5.590219</td>\n",
       "      <td>9.233072</td>\n",
       "      <td>6.352605</td>\n",
       "      <td>8.429602</td>\n",
       "      <td>5.672564</td>\n",
       "      <td>5.705322</td>\n",
       "      <td>5.717624</td>\n",
       "      <td>3.420081</td>\n",
       "      <td>0.004691</td>\n",
       "      <td>-2.486741</td>\n",
       "      <td>0.0100</td>\n",
       "    </tr>\n",
       "    <tr>\n",
       "      <th>4</th>\n",
       "      <td>2.916229</td>\n",
       "      <td>4.216994</td>\n",
       "      <td>4.711545</td>\n",
       "      <td>6.462613</td>\n",
       "      <td>4.887217</td>\n",
       "      <td>2.638681</td>\n",
       "      <td>9.605809</td>\n",
       "      <td>5.234709</td>\n",
       "      <td>0.004818</td>\n",
       "      <td>-4.228758</td>\n",
       "      <td>0.0100</td>\n",
       "    </tr>\n",
       "    <tr>\n",
       "      <th>...</th>\n",
       "      <td>...</td>\n",
       "      <td>...</td>\n",
       "      <td>...</td>\n",
       "      <td>...</td>\n",
       "      <td>...</td>\n",
       "      <td>...</td>\n",
       "      <td>...</td>\n",
       "      <td>...</td>\n",
       "      <td>...</td>\n",
       "      <td>...</td>\n",
       "      <td>...</td>\n",
       "    </tr>\n",
       "    <tr>\n",
       "      <th>395</th>\n",
       "      <td>2.608430</td>\n",
       "      <td>3.346465</td>\n",
       "      <td>5.201403</td>\n",
       "      <td>9.166944</td>\n",
       "      <td>6.192108</td>\n",
       "      <td>3.850187</td>\n",
       "      <td>7.960717</td>\n",
       "      <td>8.586406</td>\n",
       "      <td>70830.750000</td>\n",
       "      <td>4.004949</td>\n",
       "      <td>149.0006</td>\n",
       "    </tr>\n",
       "    <tr>\n",
       "      <th>396</th>\n",
       "      <td>7.801407</td>\n",
       "      <td>2.628427</td>\n",
       "      <td>5.543288</td>\n",
       "      <td>9.133362</td>\n",
       "      <td>7.014197</td>\n",
       "      <td>5.730589</td>\n",
       "      <td>4.246228</td>\n",
       "      <td>6.930445</td>\n",
       "      <td>72485.310000</td>\n",
       "      <td>8.235667</td>\n",
       "      <td>150.9995</td>\n",
       "    </tr>\n",
       "    <tr>\n",
       "      <th>397</th>\n",
       "      <td>7.364198</td>\n",
       "      <td>8.455093</td>\n",
       "      <td>4.617628</td>\n",
       "      <td>3.805883</td>\n",
       "      <td>4.280772</td>\n",
       "      <td>6.398586</td>\n",
       "      <td>8.552977</td>\n",
       "      <td>8.138172</td>\n",
       "      <td>0.000000</td>\n",
       "      <td>-1.734951</td>\n",
       "      <td>0.0000</td>\n",
       "    </tr>\n",
       "    <tr>\n",
       "      <th>398</th>\n",
       "      <td>7.094305</td>\n",
       "      <td>2.423077</td>\n",
       "      <td>2.934079</td>\n",
       "      <td>6.637124</td>\n",
       "      <td>4.526698</td>\n",
       "      <td>3.664447</td>\n",
       "      <td>4.901074</td>\n",
       "      <td>5.327160</td>\n",
       "      <td>73446.170000</td>\n",
       "      <td>4.073147</td>\n",
       "      <td>150.9995</td>\n",
       "    </tr>\n",
       "    <tr>\n",
       "      <th>399</th>\n",
       "      <td>3.451784</td>\n",
       "      <td>3.164933</td>\n",
       "      <td>3.213005</td>\n",
       "      <td>9.450705</td>\n",
       "      <td>8.759146</td>\n",
       "      <td>8.331735</td>\n",
       "      <td>2.206001</td>\n",
       "      <td>6.427374</td>\n",
       "      <td>55933.920000</td>\n",
       "      <td>9.647697</td>\n",
       "      <td>131.0084</td>\n",
       "    </tr>\n",
       "  </tbody>\n",
       "</table>\n",
       "<p>400 rows × 11 columns</p>\n",
       "</div>"
      ],
      "text/plain": [
       "           0         1         2         3         4         5         6   \\\n",
       "0    9.465233  9.191411  6.313146  6.181568  4.253219  3.362766  2.004250   \n",
       "1    5.050903  2.807665  7.250966  4.202998  7.871765  6.329711  3.563606   \n",
       "2    8.796076  5.131824  8.469040  8.168441  6.226139  7.792487  6.816335   \n",
       "3    5.590219  9.233072  6.352605  8.429602  5.672564  5.705322  5.717624   \n",
       "4    2.916229  4.216994  4.711545  6.462613  4.887217  2.638681  9.605809   \n",
       "..        ...       ...       ...       ...       ...       ...       ...   \n",
       "395  2.608430  3.346465  5.201403  9.166944  6.192108  3.850187  7.960717   \n",
       "396  7.801407  2.628427  5.543288  9.133362  7.014197  5.730589  4.246228   \n",
       "397  7.364198  8.455093  4.617628  3.805883  4.280772  6.398586  8.552977   \n",
       "398  7.094305  2.423077  2.934079  6.637124  4.526698  3.664447  4.901074   \n",
       "399  3.451784  3.164933  3.213005  9.450705  8.759146  8.331735  2.206001   \n",
       "\n",
       "           7             8         9         10  \n",
       "0    3.767645      0.004903 -5.119238    0.0100  \n",
       "1    6.148326  77117.160000  9.322933  154.9973  \n",
       "2    8.795342  51216.000000  6.846969  125.0071  \n",
       "3    3.420081      0.004691 -2.486741    0.0100  \n",
       "4    5.234709      0.004818 -4.228758    0.0100  \n",
       "..        ...           ...       ...       ...  \n",
       "395  8.586406  70830.750000  4.004949  149.0006  \n",
       "396  6.930445  72485.310000  8.235667  150.9995  \n",
       "397  8.138172      0.000000 -1.734951    0.0000  \n",
       "398  5.327160  73446.170000  4.073147  150.9995  \n",
       "399  6.427374  55933.920000  9.647697  131.0084  \n",
       "\n",
       "[400 rows x 11 columns]"
      ]
     },
     "execution_count": 227,
     "metadata": {},
     "output_type": "execute_result"
    }
   ],
   "source": [
    "data = {}\n",
    "for i in range(len(config)):\n",
    "    data[i] = list(config[i]['S'].values()) + list(config[i]['B'].values())\n",
    "    data[i].append(obs[i].max()['Altitude (ft)'])\n",
    "    data[i].append(obs[i].max()['Stability Margin (cal)'])\n",
    "    data[i].append(obs[i].max()['Time (sec)'])\n",
    "df = pd.DataFrame.from_dict(data, orient='index')\n",
    "df"
   ]
  },
  {
   "cell_type": "code",
   "execution_count": 229,
   "id": "dddd2ec9",
   "metadata": {},
   "outputs": [
    {
     "data": {
      "text/html": [
       "<div>\n",
       "<style scoped>\n",
       "    .dataframe tbody tr th:only-of-type {\n",
       "        vertical-align: middle;\n",
       "    }\n",
       "\n",
       "    .dataframe tbody tr th {\n",
       "        vertical-align: top;\n",
       "    }\n",
       "\n",
       "    .dataframe thead th {\n",
       "        text-align: right;\n",
       "    }\n",
       "</style>\n",
       "<table border=\"1\" class=\"dataframe\">\n",
       "  <thead>\n",
       "    <tr style=\"text-align: right;\">\n",
       "      <th></th>\n",
       "      <th>Schord</th>\n",
       "      <th>Sspan</th>\n",
       "      <th>Ssweep</th>\n",
       "      <th>Stip</th>\n",
       "      <th>Bchord</th>\n",
       "      <th>Bspan</th>\n",
       "      <th>Bsweep</th>\n",
       "      <th>Btip</th>\n",
       "      <th>Altitude</th>\n",
       "      <th>Stability</th>\n",
       "      <th>Time</th>\n",
       "    </tr>\n",
       "  </thead>\n",
       "  <tbody>\n",
       "    <tr>\n",
       "      <th>0</th>\n",
       "      <td>9.465233</td>\n",
       "      <td>9.191411</td>\n",
       "      <td>6.313146</td>\n",
       "      <td>6.181568</td>\n",
       "      <td>4.253219</td>\n",
       "      <td>3.362766</td>\n",
       "      <td>2.004250</td>\n",
       "      <td>3.767645</td>\n",
       "      <td>0.004903</td>\n",
       "      <td>-5.119238</td>\n",
       "      <td>0.0100</td>\n",
       "    </tr>\n",
       "    <tr>\n",
       "      <th>1</th>\n",
       "      <td>5.050903</td>\n",
       "      <td>2.807665</td>\n",
       "      <td>7.250966</td>\n",
       "      <td>4.202998</td>\n",
       "      <td>7.871765</td>\n",
       "      <td>6.329711</td>\n",
       "      <td>3.563606</td>\n",
       "      <td>6.148326</td>\n",
       "      <td>77117.160000</td>\n",
       "      <td>9.322933</td>\n",
       "      <td>154.9973</td>\n",
       "    </tr>\n",
       "    <tr>\n",
       "      <th>2</th>\n",
       "      <td>8.796076</td>\n",
       "      <td>5.131824</td>\n",
       "      <td>8.469040</td>\n",
       "      <td>8.168441</td>\n",
       "      <td>6.226139</td>\n",
       "      <td>7.792487</td>\n",
       "      <td>6.816335</td>\n",
       "      <td>8.795342</td>\n",
       "      <td>51216.000000</td>\n",
       "      <td>6.846969</td>\n",
       "      <td>125.0071</td>\n",
       "    </tr>\n",
       "    <tr>\n",
       "      <th>3</th>\n",
       "      <td>5.590219</td>\n",
       "      <td>9.233072</td>\n",
       "      <td>6.352605</td>\n",
       "      <td>8.429602</td>\n",
       "      <td>5.672564</td>\n",
       "      <td>5.705322</td>\n",
       "      <td>5.717624</td>\n",
       "      <td>3.420081</td>\n",
       "      <td>0.004691</td>\n",
       "      <td>-2.486741</td>\n",
       "      <td>0.0100</td>\n",
       "    </tr>\n",
       "    <tr>\n",
       "      <th>4</th>\n",
       "      <td>2.916229</td>\n",
       "      <td>4.216994</td>\n",
       "      <td>4.711545</td>\n",
       "      <td>6.462613</td>\n",
       "      <td>4.887217</td>\n",
       "      <td>2.638681</td>\n",
       "      <td>9.605809</td>\n",
       "      <td>5.234709</td>\n",
       "      <td>0.004818</td>\n",
       "      <td>-4.228758</td>\n",
       "      <td>0.0100</td>\n",
       "    </tr>\n",
       "    <tr>\n",
       "      <th>...</th>\n",
       "      <td>...</td>\n",
       "      <td>...</td>\n",
       "      <td>...</td>\n",
       "      <td>...</td>\n",
       "      <td>...</td>\n",
       "      <td>...</td>\n",
       "      <td>...</td>\n",
       "      <td>...</td>\n",
       "      <td>...</td>\n",
       "      <td>...</td>\n",
       "      <td>...</td>\n",
       "    </tr>\n",
       "    <tr>\n",
       "      <th>395</th>\n",
       "      <td>2.608430</td>\n",
       "      <td>3.346465</td>\n",
       "      <td>5.201403</td>\n",
       "      <td>9.166944</td>\n",
       "      <td>6.192108</td>\n",
       "      <td>3.850187</td>\n",
       "      <td>7.960717</td>\n",
       "      <td>8.586406</td>\n",
       "      <td>70830.750000</td>\n",
       "      <td>4.004949</td>\n",
       "      <td>149.0006</td>\n",
       "    </tr>\n",
       "    <tr>\n",
       "      <th>396</th>\n",
       "      <td>7.801407</td>\n",
       "      <td>2.628427</td>\n",
       "      <td>5.543288</td>\n",
       "      <td>9.133362</td>\n",
       "      <td>7.014197</td>\n",
       "      <td>5.730589</td>\n",
       "      <td>4.246228</td>\n",
       "      <td>6.930445</td>\n",
       "      <td>72485.310000</td>\n",
       "      <td>8.235667</td>\n",
       "      <td>150.9995</td>\n",
       "    </tr>\n",
       "    <tr>\n",
       "      <th>397</th>\n",
       "      <td>7.364198</td>\n",
       "      <td>8.455093</td>\n",
       "      <td>4.617628</td>\n",
       "      <td>3.805883</td>\n",
       "      <td>4.280772</td>\n",
       "      <td>6.398586</td>\n",
       "      <td>8.552977</td>\n",
       "      <td>8.138172</td>\n",
       "      <td>0.000000</td>\n",
       "      <td>-1.734951</td>\n",
       "      <td>0.0000</td>\n",
       "    </tr>\n",
       "    <tr>\n",
       "      <th>398</th>\n",
       "      <td>7.094305</td>\n",
       "      <td>2.423077</td>\n",
       "      <td>2.934079</td>\n",
       "      <td>6.637124</td>\n",
       "      <td>4.526698</td>\n",
       "      <td>3.664447</td>\n",
       "      <td>4.901074</td>\n",
       "      <td>5.327160</td>\n",
       "      <td>73446.170000</td>\n",
       "      <td>4.073147</td>\n",
       "      <td>150.9995</td>\n",
       "    </tr>\n",
       "    <tr>\n",
       "      <th>399</th>\n",
       "      <td>3.451784</td>\n",
       "      <td>3.164933</td>\n",
       "      <td>3.213005</td>\n",
       "      <td>9.450705</td>\n",
       "      <td>8.759146</td>\n",
       "      <td>8.331735</td>\n",
       "      <td>2.206001</td>\n",
       "      <td>6.427374</td>\n",
       "      <td>55933.920000</td>\n",
       "      <td>9.647697</td>\n",
       "      <td>131.0084</td>\n",
       "    </tr>\n",
       "  </tbody>\n",
       "</table>\n",
       "<p>400 rows × 11 columns</p>\n",
       "</div>"
      ],
      "text/plain": [
       "       Schord     Sspan    Ssweep      Stip    Bchord     Bspan    Bsweep  \\\n",
       "0    9.465233  9.191411  6.313146  6.181568  4.253219  3.362766  2.004250   \n",
       "1    5.050903  2.807665  7.250966  4.202998  7.871765  6.329711  3.563606   \n",
       "2    8.796076  5.131824  8.469040  8.168441  6.226139  7.792487  6.816335   \n",
       "3    5.590219  9.233072  6.352605  8.429602  5.672564  5.705322  5.717624   \n",
       "4    2.916229  4.216994  4.711545  6.462613  4.887217  2.638681  9.605809   \n",
       "..        ...       ...       ...       ...       ...       ...       ...   \n",
       "395  2.608430  3.346465  5.201403  9.166944  6.192108  3.850187  7.960717   \n",
       "396  7.801407  2.628427  5.543288  9.133362  7.014197  5.730589  4.246228   \n",
       "397  7.364198  8.455093  4.617628  3.805883  4.280772  6.398586  8.552977   \n",
       "398  7.094305  2.423077  2.934079  6.637124  4.526698  3.664447  4.901074   \n",
       "399  3.451784  3.164933  3.213005  9.450705  8.759146  8.331735  2.206001   \n",
       "\n",
       "         Btip      Altitude  Stability      Time  \n",
       "0    3.767645      0.004903  -5.119238    0.0100  \n",
       "1    6.148326  77117.160000   9.322933  154.9973  \n",
       "2    8.795342  51216.000000   6.846969  125.0071  \n",
       "3    3.420081      0.004691  -2.486741    0.0100  \n",
       "4    5.234709      0.004818  -4.228758    0.0100  \n",
       "..        ...           ...        ...       ...  \n",
       "395  8.586406  70830.750000   4.004949  149.0006  \n",
       "396  6.930445  72485.310000   8.235667  150.9995  \n",
       "397  8.138172      0.000000  -1.734951    0.0000  \n",
       "398  5.327160  73446.170000   4.073147  150.9995  \n",
       "399  6.427374  55933.920000   9.647697  131.0084  \n",
       "\n",
       "[400 rows x 11 columns]"
      ]
     },
     "execution_count": 229,
     "metadata": {},
     "output_type": "execute_result"
    }
   ],
   "source": [
    "df = df.rename(columns={0: \"Schord\", 1: \"Sspan\", 2: \"Ssweep\", 3: \"Stip\", 4: \"Bchord\", \n",
    "                        5: \"Bspan\", 6: \"Bsweep\", 7: \"Btip\", 8: \"Altitude\", 9: \"Stability\", 10: \"Time\"})\n",
    "df"
   ]
  },
  {
   "cell_type": "code",
   "execution_count": 230,
   "id": "d5928656",
   "metadata": {},
   "outputs": [],
   "source": [
    "features = ['Schord', 'Sspan', 'Ssweep', 'Stip', 'Bchord', 'Bspan', 'Bsweep', 'Btip']#, 'Stability']"
   ]
  },
  {
   "cell_type": "code",
   "execution_count": 231,
   "id": "93d890e7",
   "metadata": {},
   "outputs": [],
   "source": [
    "pca = PCA()\n",
    "components = pca.fit_transform(df[features])"
   ]
  },
  {
   "cell_type": "code",
   "execution_count": 232,
   "id": "5cff3032",
   "metadata": {},
   "outputs": [],
   "source": [
    "labels = {\n",
    "    str(i): f\"PC {i+1} ({var:.1f}%)\"\n",
    "    for i, var in enumerate(pca.explained_variance_ratio_ * 100)\n",
    "}"
   ]
  },
  {
   "cell_type": "code",
   "execution_count": 233,
   "id": "5ca3b902",
   "metadata": {},
   "outputs": [
    {
     "data": {
      "text/plain": [
       "{'0': 'PC 1 (15.5%)',\n",
       " '1': 'PC 2 (14.4%)',\n",
       " '2': 'PC 3 (13.5%)',\n",
       " '3': 'PC 4 (12.4%)',\n",
       " '4': 'PC 5 (11.7%)',\n",
       " '5': 'PC 6 (11.4%)',\n",
       " '6': 'PC 7 (11.1%)',\n",
       " '7': 'PC 8 (10.0%)'}"
      ]
     },
     "execution_count": 233,
     "metadata": {},
     "output_type": "execute_result"
    }
   ],
   "source": [
    "labels"
   ]
  },
  {
   "cell_type": "code",
   "execution_count": 235,
   "id": "867acbc3",
   "metadata": {},
   "outputs": [
    {
     "name": "stderr",
     "output_type": "stream",
     "text": [
      "/Users/alanyu/opt/miniconda3/envs/rocket/lib/python3.9/site-packages/plotly/express/_core.py:279: FutureWarning:\n",
      "\n",
      "iteritems is deprecated and will be removed in a future version. Use .items instead.\n",
      "\n"
     ]
    },
    {
     "data": {
      "application/vnd.plotly.v1+json": {
       "config": {
        "plotlyServerURL": "https://plot.ly"
       },
       "data": [
        {
         "diagonal": {
          "visible": false
         },
         "dimensions": [
          {
           "axis": {
            "matches": true
           },
           "label": "PC 1 (15.5%)",
           "values": [
            3.393499812731599,
            0.5444863998577174,
            2.0393172119058636,
            2.5500272641036874,
            -4.097186815039338,
            3.0430308050389088,
            0.32483147611509705,
            -2.9829806284542295,
            1.1630144739328636,
            1.6712003071197654,
            -1.7743757455898914,
            -1.4801422730115614,
            0.9296205160997417,
            -2.8754358493487575,
            1.6339613561409383,
            1.286731767166977,
            2.602595412133553,
            -0.12112919299157081,
            3.582647431592954,
            -1.4718218246336883,
            2.3263941793457197,
            1.7031950493478478,
            2.558635648836395,
            0.24023588221449807,
            -1.6371433808319498,
            -3.923708954157435,
            -6.65565877845381,
            1.7697662425687617,
            -5.324393063139661,
            1.650461417757434,
            -3.6911909985715448,
            -2.2858822512246677,
            1.9214251199218837,
            -0.8214545888300311,
            4.53005362852902,
            -0.7735811661099263,
            4.837223216717283,
            -2.7999848668800165,
            1.2073266500393138,
            0.8814282922086007,
            -2.0257994537189226,
            -2.058396771044868,
            -2.537414366611294,
            1.0735788162352367,
            -3.9575783270192284,
            2.4496703347127116,
            -1.754015249158135,
            -1.1307522275595456,
            0.36767912256810387,
            -0.5928577420496136,
            2.2755350343990473,
            1.5660131808714464,
            -3.603757859766102,
            0.10718649751579216,
            2.419767406637309,
            -2.1087851831415176,
            -2.8291061740038375,
            -1.5327663927189779,
            5.208179527288286,
            3.774697164556722,
            5.634566259722438,
            -1.627506725090668,
            3.939536936303107,
            2.0800840205754154,
            -2.684859384462801,
            1.067456357676437,
            3.0340263192143655,
            1.6739175874356838,
            -1.3584392655521742,
            1.6059743897489656,
            1.5273716179741703,
            -3.2568385977644447,
            -1.766487133905486,
            1.1595673422323851,
            -1.5084874691791648,
            1.4634742024853626,
            -0.8475433371909884,
            -0.13180943478915794,
            -1.6767033321527478,
            1.1955292205105372,
            5.285560563203889,
            0.9610315940816777,
            -2.511141098819338,
            -4.414869836604874,
            2.923760351042115,
            -4.833564071758188,
            3.9456156603461534,
            -1.840424806926263,
            1.2335179963511818,
            3.402902990018201,
            2.402997106160044,
            0.09204891644408185,
            0.18948427758426087,
            -2.427751548655366,
            1.455621312248393,
            -3.0577079500862268,
            -2.1960994999500074,
            -3.8949135786522935,
            -2.2331175193479083,
            1.1478322548255608,
            -1.47769767583014,
            -2.9439552927000574,
            2.347186567125785,
            0.8566550376422019,
            -0.18706978780295208,
            0.28346074550720496,
            -4.302257591427084,
            1.3513391352402004,
            -2.999884722635887,
            -0.557691952731901,
            -1.4938662219045167,
            5.369054992267346,
            3.6078354948291405,
            4.326409121464609,
            -2.911872525657997,
            2.5188750823273094,
            1.0759820098446682,
            -4.686947750425595,
            -0.7162096071055567,
            -5.20885905880504,
            0.4725716551614932,
            -1.388704641854449,
            -1.8242481822200984,
            -1.0510177476834683,
            -1.3592692550518608,
            -1.3887162721864117,
            1.3362740643040787,
            0.8211732517321176,
            -0.8107810229979021,
            -0.08488648722203766,
            1.8535002213841227,
            -2.9614271838578907,
            -0.09558420531622255,
            -0.17123068710703807,
            -2.084528656731062,
            0.9026412526485004,
            -2.4541377577574015,
            1.6250846559218566,
            2.3597070862885055,
            -2.932770448998507,
            -2.062917511483319,
            2.625543350044113,
            2.132034557390168,
            3.602325587757126,
            -1.5473002125203517,
            -1.2910124085685653,
            -1.968690281722466,
            -4.2297092705991215,
            0.79977567100752,
            3.9038789689253135,
            -2.3866271422696483,
            2.823754758932696,
            0.8711503168723147,
            -5.259113075937967,
            1.113930239857599,
            -4.754146438090867,
            -1.138184472057469,
            -0.47921905406248017,
            -2.3987165435147557,
            7.168131695723374,
            -1.9246239674528418,
            1.5991733664010275,
            2.1886410653606325,
            -2.885646756802197,
            2.9632049399850766,
            4.092271250757814,
            1.0877963673767665,
            -0.913341006121529,
            0.7672321867152212,
            -5.939810988949492,
            -2.899624188543114,
            1.186170072816225,
            2.677876070592874,
            4.93495143336445,
            4.319528559328206,
            4.497752465977321,
            0.29790221229022684,
            3.605248465675389,
            -2.7982950183237842,
            -0.4921751742421003,
            -2.1316163931194874,
            1.5084312420080903,
            0.5188063839019044,
            -0.31444851582072547,
            -1.146329411464399,
            3.972726076001584,
            -0.9281448024579503,
            2.2650721195071015,
            0.43242984387697897,
            0.3263286781355771,
            -2.242960793714635,
            0.3336465650581032,
            2.5494374210827893,
            1.1117799983809165,
            2.715939041906108,
            0.35651053690368045,
            2.4303436963650964,
            3.7007041239590177,
            0.8766405198663414,
            2.59160616610592,
            -1.2087144189325312,
            6.817692840645167,
            -0.5384273501252145,
            -3.1402753413701716,
            -5.881104957859169,
            0.8636803907703821,
            -2.858153804284785,
            -0.7461803054276154,
            -0.2934075975168129,
            -1.235311234099018,
            1.0021498676796696,
            1.224788263409111,
            0.6415316949838944,
            3.4335208232227794,
            7.041200424672782,
            -1.965605356206301,
            0.7301660026463127,
            -0.6284165535952287,
            -4.790451962346221,
            -3.224866419815673,
            1.2178779044927177,
            -4.97164121427418,
            0.28151111083720987,
            0.38739655629795566,
            -2.455994029385151,
            5.902415799992717,
            1.6362122030578983,
            -2.3419624530466834,
            0.21531846883245642,
            0.2962615953605543,
            -1.1625691889370895,
            -1.5064469493312742,
            2.5505744364071394,
            -1.346300366970566,
            -3.599483084779589,
            0.1446721682331713,
            -3.5594126259087044,
            -1.3207917538297789,
            -4.29258122380478,
            3.4019426044052885,
            4.710748659229668,
            1.3488392813288976,
            -2.476071883939234,
            -3.999894919194061,
            0.36011156709857395,
            2.442627987384596,
            -3.5214456119768403,
            3.4027529205597,
            2.2991894103081143,
            1.7362207685316784,
            0.7816157000186582,
            -0.6272533121989642,
            5.5616994116209515,
            3.3683758625562064,
            2.4514111810823747,
            0.5011470074062466,
            -5.309755074565858,
            -2.1012941788384456,
            -1.4694675869828195,
            -1.971920754200385,
            -2.961392961675109,
            0.2191971870549407,
            2.2497651757906914,
            -3.8345637720076162,
            -1.9252578885228262,
            0.46159392528200427,
            1.118014188390912,
            -1.4739395952976297,
            -4.599508409998941,
            1.2394136198852026,
            2.8248521768779975,
            -0.08388141593928929,
            1.2684041196515632,
            -2.94447175756785,
            0.032524082801670996,
            -2.4539427812649675,
            -1.5644917635561295,
            0.02987468907494387,
            -2.2435727801235115,
            1.7052529159491412,
            -0.4425490882415879,
            2.493205808985047,
            -4.550392275555219,
            -0.009587831861442816,
            -0.9831551496391647,
            -0.08130869365493947,
            -4.4851340898115,
            0.11189196663630013,
            1.472403969506353,
            4.558959528740034,
            0.7052252226511798,
            0.8585378701136442,
            1.7205783026951305,
            3.3714505866115454,
            1.4712428339168748,
            2.2847807717448676,
            0.38979885229911804,
            -1.2351583476519834,
            1.633372620249679,
            0.484545967719597,
            1.885816430252884,
            -1.541299239358793,
            0.8317279788646418,
            -0.4895921325283085,
            0.46101494434152496,
            -0.3175933438466754,
            -3.238051658494065,
            -1.2358776870659773,
            4.569292345355997,
            0.24688244317808175,
            2.29775350340463,
            -1.5184862953355933,
            -0.42433429890490304,
            -2.6767689695608814,
            -1.7471090886991572,
            3.6485796468307363,
            3.4456851460430045,
            -1.526618023224541,
            -0.5621623943768113,
            2.1626314462662104,
            2.510015491654471,
            1.1389268378832833,
            0.5775884195512702,
            -0.9450093532961884,
            -1.3443511360915867,
            -3.2042967070946844,
            -0.31399729765227924,
            1.2548933409050265,
            0.29638933085041413,
            1.8033690715891693,
            -0.5597009058636432,
            -0.3751872482194668,
            -0.9097810137021828,
            -4.518542619222676,
            2.0293411551630123,
            1.2537862793984906,
            1.015291547690677,
            0.860268340193865,
            4.55464439351144,
            -2.3696433405375967,
            -4.986615622932391,
            -0.080052969585034,
            4.206301493894084,
            3.913139317670467,
            0.6011805241823797,
            3.9608761428986323,
            -2.4537770621943746,
            -2.7441318676898776,
            1.029505158444474,
            -4.803848000683085,
            0.1255370262506622,
            -2.5201402605988172,
            0.9832834249847776,
            1.0976704109345548,
            -4.381162027802364,
            -1.8325272153518453,
            -1.7792683233429438,
            2.3553222566266845,
            0.6569538677211291,
            1.1679090370849379,
            -2.4555411583965654,
            5.384109345836401,
            -4.115915912859858,
            -0.23930891281032626,
            -0.8096294779672776,
            -3.792342842690378,
            1.5337242636359905,
            4.504063211995987,
            1.093079747531392,
            -2.322228791877017,
            -1.703587066959046,
            -1.703886364686435,
            -2.1444416861826037,
            3.3168786906500296,
            -2.389807606383363,
            0.5810155823937664,
            -0.04094720835711593,
            1.0682172705858413,
            -3.8351588624674933,
            -0.19617496344105848,
            -0.568562624961913,
            0.16803688636392236,
            -4.401700862152101,
            -4.831314363700546,
            -0.7049783485189817,
            -1.3022396805956793,
            3.1543251405279324,
            -1.1800281414652884,
            -2.560380170167404,
            -1.0223983507304537,
            1.0930161809153391,
            -0.4938945457241714,
            0.696843186458782,
            2.5430032042405766,
            2.394784582396209,
            -2.010399780370894,
            2.5879367139085865,
            -2.775355953853322,
            -0.4929857107603238,
            3.6216081171884853
           ]
          },
          {
           "axis": {
            "matches": true
           },
           "label": "PC 2 (14.4%)",
           "values": [
            -1.6597203042986464,
            1.900094419756892,
            2.3207223015358918,
            -2.202323671082998,
            -3.873059270667186,
            4.713344437137665,
            3.0624312878961555,
            -1.2255681455607899,
            2.1925073964045763,
            2.055468248035521,
            -1.661589578400376,
            0.6419633887423071,
            2.404748768990217,
            -4.227836880645708,
            2.3548038779709786,
            2.1537361113706823,
            2.895258067973797,
            1.9685682327187857,
            -0.4690191547380644,
            7.275018751454282,
            -3.283090662290449,
            -3.437705002760025,
            -4.958242216366312,
            -2.6597977984615544,
            -0.7395530790088062,
            0.5280290810999699,
            -0.06314435460618922,
            -3.8903772357610165,
            -2.4998820189633912,
            -0.12523483694068413,
            4.3695575818941315,
            2.067377993446135,
            0.5163851197179115,
            0.5216493781801557,
            1.1489155784163076,
            5.057706913499462,
            -1.760751324339905,
            -0.8462712101650038,
            -2.8295920549278932,
            1.2298936096897726,
            1.942724231047439,
            -2.3626411034022707,
            -1.8776312831012543,
            1.8033970418138674,
            2.1894321157165306,
            1.885877207258968,
            -1.1216039556760946,
            1.3370690987931093,
            1.3493921353527696,
            -2.4831051833340982,
            -2.412020133408979,
            -2.609146857856217,
            -0.6245173195884892,
            0.2684363848152579,
            0.7860445889726977,
            2.4232299686051855,
            -2.257132420849507,
            3.8683275751610053,
            2.0716599347394395,
            -0.3049038041657869,
            -0.024751199750708892,
            -1.337644833559509,
            1.1452232755695313,
            2.521733573826652,
            1.5026464089768998,
            -2.737653268104953,
            1.8841325503635582,
            0.5988646743912792,
            1.0781158545068414,
            1.8093577622137949,
            -1.1716151156521706,
            -0.36076043414521314,
            1.7202066678569938,
            -2.8078463685147157,
            0.19471259280698225,
            -3.0438190769118147,
            1.5434016694846806,
            6.028696775365389,
            -1.9315834052876661,
            -0.521126504365844,
            2.3868061541467163,
            1.0963001001347965,
            -1.9622733641060863,
            2.5184164165062484,
            -2.185533146718282,
            -0.8947561870809535,
            2.100654023776022,
            -2.39310629011231,
            -1.6182922791682253,
            -1.737468960430269,
            2.125810153032987,
            -1.877509600265991,
            -0.15142826325887737,
            2.9175757921463488,
            0.8088344297829004,
            4.16898733286055,
            6.07845954888623,
            -1.8694931935868309,
            1.8605073754372663,
            -1.295970664988021,
            -1.269627276688057,
            4.0927089260321505,
            -2.9498551070485544,
            1.9494571527914855,
            2.73080076419615,
            -3.2545023078111837,
            -0.34752898583737424,
            -1.8273396157002681,
            1.341763712729562,
            -0.72136021279424,
            -1.7971273933301997,
            -3.135487865729303,
            2.5927016799634686,
            1.3888104912108272,
            5.438211390376665,
            -2.7562411034900496,
            -9.121933366639297e-05,
            1.864123670876414,
            -1.970555250686784,
            1.6572754994473795,
            0.985875661989372,
            -0.41083673589620917,
            -1.6505235829221387,
            -3.358265209658501,
            0.9387064365495671,
            2.9678815074734675,
            -1.673953995933374,
            3.9222724935256448,
            3.4738723851196625,
            0.6569573187266128,
            0.22139061424848244,
            -0.9400251252263989,
            1.333452338385557,
            -5.281153205904541,
            0.21109066652379554,
            -1.3867865502952965,
            -1.2835674862346718,
            1.6513059568324957,
            -1.8523087328464871,
            -2.218790068442956,
            -2.896140992037817,
            -3.9575817200678167,
            -1.8342756336915504,
            3.893421171159272,
            -3.20466881250248,
            -0.20401911015335122,
            -2.8832465718122138,
            -1.8382055097414018,
            1.2715412247287305,
            -1.2061118344945783,
            -4.8348871314769735,
            0.04490593725336501,
            -1.1150094517829812,
            2.004146349014921,
            4.073165695063583,
            0.8477834622716259,
            2.926899485445293,
            -1.9793436550199435,
            -0.9172649676937183,
            1.3186655233384825,
            5.013670319486449,
            -3.1231776243167007,
            1.3592128599413988,
            -3.377349194453034,
            0.7117003470660702,
            -4.155730966016422,
            0.8020245157862155,
            -2.9880933788712105,
            1.1847696973365442,
            0.3559398036149269,
            0.6364604198312884,
            1.806309515237254,
            3.9839200386527853,
            1.6329426614701057,
            -0.5948362854948727,
            -1.1914635643157832,
            1.5197652809584328,
            -1.8519234998536138,
            -0.2717668366249904,
            -2.6923558544342048,
            5.175725938821462,
            0.43804576818768537,
            -1.9124223775813494,
            5.452438633209984,
            -2.619710511635487,
            -0.3337603413566678,
            4.3385291312038445,
            2.888722021133691,
            -6.269523205220484,
            0.7201508797720163,
            4.156450803764424,
            1.6313076910907423,
            -3.2422087228335883,
            -3.1994279313279286,
            -4.582715539552853,
            1.6123631960597824,
            -0.035050785606866905,
            -2.7426073478516426,
            -4.824836776009165,
            -6.041139613585084,
            0.017824342041323774,
            -1.726841254272899,
            1.273505901501867,
            -1.985291768705669,
            -1.7425767332770368,
            -2.5814030358793145,
            -2.2041321492852743,
            1.5545825203951191,
            3.357294387768671,
            -0.42559198921556385,
            0.6155223884616002,
            -0.5560726787178976,
            -1.763155775985324,
            -1.7323789419921956,
            0.06920750886885932,
            4.507056939999193,
            -2.0914282928437093,
            1.2775467834195633,
            -2.6529650655467187,
            -2.277618541653715,
            -0.21917202530371674,
            2.8822807612888486,
            2.6069931056132374,
            -0.07583651063056093,
            2.538134797113052,
            -3.0914747564704514,
            3.4525539325889683,
            -1.4241158209947786,
            -0.09602414856850232,
            2.7534658793342683,
            -1.1666583423793069,
            -1.9774532628413921,
            1.856992686517226,
            1.9879413948174414,
            -1.9794283052954902,
            -3.6011899337270945,
            -1.9719638060877234,
            -2.2277021202720824,
            0.8195220063221228,
            -2.962766182430293,
            0.7759084348676186,
            -0.42282161351949005,
            1.95877284348578,
            -5.065355727117901,
            3.9322182520950273,
            1.8201392532457794,
            2.5792521053583406,
            -0.37580621706979883,
            -2.9470301004921926,
            4.288062312412821,
            1.1715781925780706,
            3.984192189694396,
            0.30580130756260737,
            -0.5810322236377917,
            2.1359693566119824,
            0.6709280698153021,
            -0.7322528844646118,
            0.6671417166885031,
            -0.7058643156512029,
            -0.33463882982082827,
            -1.9994774399952668,
            -0.6343185812612542,
            -1.0933678138788268,
            -4.4495192661853515,
            1.6258038203506981,
            1.6600937088709509,
            3.4844708686634225,
            -1.3971458652795041,
            1.1729989636620954,
            -1.193603306654983,
            -0.41957184241233814,
            -1.2442098529056846,
            -3.831867370749738,
            4.355417176932266,
            0.7535184910776002,
            3.192188299288007,
            0.7749024725510557,
            3.5625806483843006,
            1.0975911357000085,
            4.858829218274756,
            -3.4005000101532064,
            1.2832392194813211,
            -0.7203514194394348,
            1.5296900965693812,
            2.774410943578154,
            -0.5503053200700118,
            -1.506359090885342,
            -2.638298537404098,
            2.6609636922769973,
            1.3337322749532292,
            -1.9791070208944386,
            -0.9885477141434966,
            3.735487538390149,
            4.139550703685598,
            -0.6746415055628197,
            0.009968965573044069,
            -2.2196584301408935,
            -1.3505255521498458,
            -2.1359464570602955,
            -3.314326544116912,
            2.743919544497011,
            1.1595898492624157,
            -1.2196761352829237,
            -1.690091471909345,
            -4.0924384374276945,
            -0.7712032125019571,
            -0.5218153385613807,
            -1.5822719461865067,
            2.000953801772166,
            3.6316927684732407,
            3.856644074458863,
            -2.172242532086919,
            2.1781371014045114,
            -0.3295903595411695,
            -2.9533663512579036,
            -0.7334777470054408,
            -2.539481216712287,
            -0.8290997904953716,
            -0.31211992638923225,
            1.3279646605443383,
            -1.5173065710122047,
            4.235207232834815,
            0.8878518011117845,
            1.5411553481275364,
            -4.012027936136445,
            3.6707091448204654,
            1.1730723857085454,
            -2.4876688185625704,
            1.972656406938699,
            -0.9902982258350205,
            -1.1115027618865687,
            -0.6078828383306848,
            -3.3024228795641286,
            3.1885797195151704,
            -2.59751635921758,
            -1.900882612213631,
            0.27959130199342075,
            0.43210625802006236,
            2.9859324592190424,
            -0.11122360227143198,
            -5.230373262229538,
            4.300932307749822,
            1.7463185259941543,
            -3.3074399722327934,
            6.894652376566745,
            1.8327989722743987,
            -3.859597124472507,
            -2.722532727341656,
            -0.3831917417339776,
            -1.3555475348932868,
            -0.9628890329884641,
            -0.04263179873803784,
            2.2077286635370394,
            5.350016291175965,
            0.10593456542123572,
            0.7330275731060822,
            -1.5366972737856563,
            -2.2153836962413016,
            4.640788778255693,
            2.8319409850288393,
            -2.1659488668892855,
            0.647499812265145,
            -0.23089050188335222,
            -2.5268910307663437,
            5.102375151181214,
            0.8406375356573793,
            4.2125554454896745,
            -1.7438053830685694,
            -0.791135348142703,
            -0.9093915345644417,
            -0.26273397562051914,
            4.461757754912508,
            0.7949640872041247,
            -2.2384391335643095,
            2.223231971533769,
            -1.688815153683093,
            -0.7316453246962261,
            0.12484474766421315,
            -2.17846915060807,
            -0.9294715402317413,
            -1.484450397097625,
            -1.9779091609427273,
            0.374629023287352,
            -1.0501185663592358,
            -1.8935498127967376,
            0.19640826772659487,
            -1.8787026938910054,
            -2.9770021604755943,
            1.1885438071864192,
            -3.3538404212898607,
            -4.42113684026868,
            -0.749416754455274,
            -4.065531294757457,
            1.9032583104868162,
            -4.421031091467032,
            -1.6893068461176348,
            0.33429852449153763,
            1.4230936031492811,
            -2.2861836845302617,
            1.265596448352533
           ]
          }
         ],
         "hovertemplate": "%{xaxis.title.text}=%{x}<br>%{yaxis.title.text}=%{y}<br>color=%{marker.color}<extra></extra>",
         "legendgroup": "",
         "marker": {
          "color": [
           -5.119238,
           9.322933,
           6.846969,
           -2.486741,
           -4.228758,
           8.676952,
           10.80651,
           7.862975,
           6.933912,
           7.335162,
           9.371486,
           -2.709909,
           6.656824,
           -1.383642,
           6.621367,
           -1.237612,
           7.634768,
           -4.610901,
           9.598338,
           7.321642,
           -1.182289,
           4.687752,
           0.2128525,
           -5.796957,
           5.665455,
           3.463113,
           -0.2658901,
           -1.751385,
           -3.529919,
           -0.3435402,
           6.797264,
           -0.2111168,
           5.767958,
           -4.854694,
           6.729472,
           6.743188,
           6.366825,
           5.060956,
           4.896063,
           10.34457,
           -5.562071,
           -4.817244,
           -0.1621666,
           -1.183552,
           6.284017,
           10.27789,
           -2.75284,
           5.733068,
           -1.262341,
           -2.895168,
           -2.851049,
           6.614317,
           -4.493204,
           9.16923,
           5.70782,
           -1.094099,
           -2.449299,
           -3.070711,
           6.242162,
           -4.692713,
           -0.0524044,
           -1.0541,
           6.188743,
           6.620581,
           -0.7512836,
           5.918286,
           7.988993,
           -3.297308,
           -4.819052,
           5.898955,
           5.953299,
           8.533127,
           -2.406563,
           5.530458,
           3.919582,
           -0.09306526,
           8.594308,
           6.858682,
           -1.796772,
           -5.443514,
           -0.7107468,
           5.922632,
           -4.511156,
           6.771462,
           -1.677998,
           -3.221655,
           7.37155,
           -0.1210136,
           -1.40415,
           7.654999,
           8.251637,
           5.476389,
           -1.561874,
           11.29633,
           9.790152,
           8.546931,
           6.805611,
           -6.493425,
           7.243856,
           5.332842,
           5.506973,
           -1.350765,
           -2.430939,
           6.422092,
           -0.5903702,
           -4.865044,
           -1.083824,
           -3.47463,
           10.60599,
           -1.917994,
           -3.946157,
           -5.868876,
           7.854228,
           8.069924,
           5.724058,
           -2.954966,
           5.90062,
           4.497777,
           -2.784153,
           -4.100586,
           8.870713,
           10.94347,
           -3.247633,
           -0.009717941,
           9.800485,
           6.532334,
           9.566547,
           9.086288,
           6.193618,
           -2.873798,
           -0.6906319,
           -6.048386,
           5.042585,
           -3.692461,
           -4.477638,
           5.878897,
           -3.488066,
           -2.206818,
           5.869928,
           4.827666,
           -1.402044,
           5.900744,
           -3.905321,
           10.59272,
           -0.9180984,
           5.856851,
           9.259684,
           -6.393686,
           7.799809,
           6.259969,
           -6.051693,
           6.945785,
           -4.767355,
           5.129569,
           -2.022758,
           -3.95417,
           6.28502,
           -6.585863,
           0.1689796,
           7.137681,
           7.896776,
           -1.386578,
           9.002474,
           -4.171051,
           6.469611,
           8.803595,
           -4.14654,
           -2.17388,
           10.97009,
           -3.117931,
           -0.831089,
           -1.829584,
           -0.2868996,
           6.620848,
           -0.3997803,
           -0.7575073,
           7.981008,
           6.779326,
           -1.541126,
           6.231582,
           11.19371,
           -1.526396,
           -5.169575,
           7.553341,
           -0.5996914,
           8.500427,
           6.098859,
           7.912075,
           -5.924782,
           -0.826416,
           9.855741,
           5.91862,
           -2.546824,
           5.560683,
           -5.020136,
           8.751208,
           7.004263,
           -1.113754,
           -5.585526,
           -3.845776,
           7.015656,
           -0.4918518,
           -2.667955,
           -3.867004,
           -6.672647,
           -2.461916,
           -3.058382,
           9.767697,
           6.645263,
           -1.479586,
           5.89952,
           -0.249918,
           6.34569,
           5.697006,
           6.416058,
           9.869337,
           -3.274603,
           8.825113,
           -7.243942,
           -6.593925,
           5.607295,
           -3.403231,
           6.093042,
           -4.305946,
           -4.387274,
           0.0002384186,
           9.559247,
           -1.933849,
           -0.08175278,
           6.220812,
           4.958618,
           -1.674875,
           -0.8697052,
           5.791516,
           -0.4501362,
           -5.925489,
           6.458732,
           5.261523,
           -1.810822,
           8.74981,
           10.75946,
           5.717454,
           -3.447483,
           -3.324215,
           6.307089,
           6.355306,
           6.537778,
           9.432687,
           -0.1838112,
           6.139962,
           6.448957,
           7.74188,
           6.756685,
           -0.1398544,
           6.721596,
           -0.7787132,
           -1.950151,
           5.661961,
           -5.886868,
           -5.52293,
           -5.640705,
           -1.987185,
           5.476546,
           -7.146511,
           7.455174,
           5.826826,
           6.177292,
           -6.671371,
           -4.693909,
           8.01368,
           -1.953501,
           -4.990343,
           5.464063,
           6.529441,
           -1.948807,
           6.435083,
           -4.585419,
           9.045945,
           7.50578,
           9.764422,
           -2.052588,
           7.325535,
           -6.709368,
           6.090033,
           5.776418,
           -5.864492,
           -0.5549908,
           -2.404247,
           5.995677,
           9.86982,
           5.797961,
           0.2641792,
           11.38764,
           11.03784,
           0.1214333,
           -2.730717,
           -2.711628,
           -5.682083,
           -2.805941,
           -2.40061,
           -0.1120071,
           -4.770304,
           -3.945282,
           4.716398,
           -5.370108,
           7.288422,
           -6.199598,
           6.346332,
           6.014645,
           6.003464,
           6.297805,
           -4.057997,
           5.960871,
           6.091156,
           -0.2577953,
           5.36105,
           -5.435562,
           5.405098,
           7.186265,
           8.891134,
           -2.976263,
           6.286551,
           10.14554,
           -2.867134,
           -2.759005,
           5.947707,
           5.395092,
           -0.615469,
           5.269746,
           -2.251976,
           -0.8098907,
           -4.166704,
           -2.410568,
           7.913034,
           -1.979645,
           -0.6452122,
           7.277163,
           -1.028984,
           6.263331,
           -6.671131,
           -7.239536,
           6.220227,
           6.291829,
           5.32416,
           6.826213,
           4.502273,
           4.732439,
           -1.338818,
           6.289331,
           -3.271051,
           -3.036654,
           6.074715,
           7.323742,
           7.601222,
           -4.647667,
           -1.692682,
           5.447844,
           -0.1205387,
           -0.6394444,
           -1.651123,
           -0.5330944,
           7.111973,
           8.762132,
           -2.139645,
           -1.101767,
           4.978916,
           7.432135,
           9.632286,
           7.763885,
           -1.132267,
           6.971564,
           5.971836,
           -1.426781,
           5.542027,
           -1.722408,
           5.866338,
           -0.2635937,
           6.412961,
           -6.213633,
           5.795676,
           8.248794,
           9.680395,
           9.496869,
           -1.302683,
           -1.732714,
           -1.02006,
           8.591331,
           5.168307,
           6.674723,
           -5.671749,
           -2.63085,
           -2.903948,
           4.681874,
           6.337814,
           -0.1841888,
           4.004949,
           8.235667,
           -1.734951,
           4.073147,
           9.647697
          ],
          "coloraxis": "coloraxis",
          "symbol": "circle"
         },
         "name": "",
         "showlegend": false,
         "type": "splom"
        }
       ],
       "layout": {
        "coloraxis": {
         "colorbar": {
          "title": {
           "text": "color"
          }
         },
         "colorscale": [
          [
           0,
           "#0d0887"
          ],
          [
           0.1111111111111111,
           "#46039f"
          ],
          [
           0.2222222222222222,
           "#7201a8"
          ],
          [
           0.3333333333333333,
           "#9c179e"
          ],
          [
           0.4444444444444444,
           "#bd3786"
          ],
          [
           0.5555555555555556,
           "#d8576b"
          ],
          [
           0.6666666666666666,
           "#ed7953"
          ],
          [
           0.7777777777777778,
           "#fb9f3a"
          ],
          [
           0.8888888888888888,
           "#fdca26"
          ],
          [
           1,
           "#f0f921"
          ]
         ]
        },
        "dragmode": "select",
        "legend": {
         "tracegroupgap": 0
        },
        "margin": {
         "t": 60
        },
        "template": {
         "data": {
          "bar": [
           {
            "error_x": {
             "color": "#2a3f5f"
            },
            "error_y": {
             "color": "#2a3f5f"
            },
            "marker": {
             "line": {
              "color": "#E5ECF6",
              "width": 0.5
             },
             "pattern": {
              "fillmode": "overlay",
              "size": 10,
              "solidity": 0.2
             }
            },
            "type": "bar"
           }
          ],
          "barpolar": [
           {
            "marker": {
             "line": {
              "color": "#E5ECF6",
              "width": 0.5
             },
             "pattern": {
              "fillmode": "overlay",
              "size": 10,
              "solidity": 0.2
             }
            },
            "type": "barpolar"
           }
          ],
          "carpet": [
           {
            "aaxis": {
             "endlinecolor": "#2a3f5f",
             "gridcolor": "white",
             "linecolor": "white",
             "minorgridcolor": "white",
             "startlinecolor": "#2a3f5f"
            },
            "baxis": {
             "endlinecolor": "#2a3f5f",
             "gridcolor": "white",
             "linecolor": "white",
             "minorgridcolor": "white",
             "startlinecolor": "#2a3f5f"
            },
            "type": "carpet"
           }
          ],
          "choropleth": [
           {
            "colorbar": {
             "outlinewidth": 0,
             "ticks": ""
            },
            "type": "choropleth"
           }
          ],
          "contour": [
           {
            "colorbar": {
             "outlinewidth": 0,
             "ticks": ""
            },
            "colorscale": [
             [
              0,
              "#0d0887"
             ],
             [
              0.1111111111111111,
              "#46039f"
             ],
             [
              0.2222222222222222,
              "#7201a8"
             ],
             [
              0.3333333333333333,
              "#9c179e"
             ],
             [
              0.4444444444444444,
              "#bd3786"
             ],
             [
              0.5555555555555556,
              "#d8576b"
             ],
             [
              0.6666666666666666,
              "#ed7953"
             ],
             [
              0.7777777777777778,
              "#fb9f3a"
             ],
             [
              0.8888888888888888,
              "#fdca26"
             ],
             [
              1,
              "#f0f921"
             ]
            ],
            "type": "contour"
           }
          ],
          "contourcarpet": [
           {
            "colorbar": {
             "outlinewidth": 0,
             "ticks": ""
            },
            "type": "contourcarpet"
           }
          ],
          "heatmap": [
           {
            "colorbar": {
             "outlinewidth": 0,
             "ticks": ""
            },
            "colorscale": [
             [
              0,
              "#0d0887"
             ],
             [
              0.1111111111111111,
              "#46039f"
             ],
             [
              0.2222222222222222,
              "#7201a8"
             ],
             [
              0.3333333333333333,
              "#9c179e"
             ],
             [
              0.4444444444444444,
              "#bd3786"
             ],
             [
              0.5555555555555556,
              "#d8576b"
             ],
             [
              0.6666666666666666,
              "#ed7953"
             ],
             [
              0.7777777777777778,
              "#fb9f3a"
             ],
             [
              0.8888888888888888,
              "#fdca26"
             ],
             [
              1,
              "#f0f921"
             ]
            ],
            "type": "heatmap"
           }
          ],
          "heatmapgl": [
           {
            "colorbar": {
             "outlinewidth": 0,
             "ticks": ""
            },
            "colorscale": [
             [
              0,
              "#0d0887"
             ],
             [
              0.1111111111111111,
              "#46039f"
             ],
             [
              0.2222222222222222,
              "#7201a8"
             ],
             [
              0.3333333333333333,
              "#9c179e"
             ],
             [
              0.4444444444444444,
              "#bd3786"
             ],
             [
              0.5555555555555556,
              "#d8576b"
             ],
             [
              0.6666666666666666,
              "#ed7953"
             ],
             [
              0.7777777777777778,
              "#fb9f3a"
             ],
             [
              0.8888888888888888,
              "#fdca26"
             ],
             [
              1,
              "#f0f921"
             ]
            ],
            "type": "heatmapgl"
           }
          ],
          "histogram": [
           {
            "marker": {
             "pattern": {
              "fillmode": "overlay",
              "size": 10,
              "solidity": 0.2
             }
            },
            "type": "histogram"
           }
          ],
          "histogram2d": [
           {
            "colorbar": {
             "outlinewidth": 0,
             "ticks": ""
            },
            "colorscale": [
             [
              0,
              "#0d0887"
             ],
             [
              0.1111111111111111,
              "#46039f"
             ],
             [
              0.2222222222222222,
              "#7201a8"
             ],
             [
              0.3333333333333333,
              "#9c179e"
             ],
             [
              0.4444444444444444,
              "#bd3786"
             ],
             [
              0.5555555555555556,
              "#d8576b"
             ],
             [
              0.6666666666666666,
              "#ed7953"
             ],
             [
              0.7777777777777778,
              "#fb9f3a"
             ],
             [
              0.8888888888888888,
              "#fdca26"
             ],
             [
              1,
              "#f0f921"
             ]
            ],
            "type": "histogram2d"
           }
          ],
          "histogram2dcontour": [
           {
            "colorbar": {
             "outlinewidth": 0,
             "ticks": ""
            },
            "colorscale": [
             [
              0,
              "#0d0887"
             ],
             [
              0.1111111111111111,
              "#46039f"
             ],
             [
              0.2222222222222222,
              "#7201a8"
             ],
             [
              0.3333333333333333,
              "#9c179e"
             ],
             [
              0.4444444444444444,
              "#bd3786"
             ],
             [
              0.5555555555555556,
              "#d8576b"
             ],
             [
              0.6666666666666666,
              "#ed7953"
             ],
             [
              0.7777777777777778,
              "#fb9f3a"
             ],
             [
              0.8888888888888888,
              "#fdca26"
             ],
             [
              1,
              "#f0f921"
             ]
            ],
            "type": "histogram2dcontour"
           }
          ],
          "mesh3d": [
           {
            "colorbar": {
             "outlinewidth": 0,
             "ticks": ""
            },
            "type": "mesh3d"
           }
          ],
          "parcoords": [
           {
            "line": {
             "colorbar": {
              "outlinewidth": 0,
              "ticks": ""
             }
            },
            "type": "parcoords"
           }
          ],
          "pie": [
           {
            "automargin": true,
            "type": "pie"
           }
          ],
          "scatter": [
           {
            "fillpattern": {
             "fillmode": "overlay",
             "size": 10,
             "solidity": 0.2
            },
            "type": "scatter"
           }
          ],
          "scatter3d": [
           {
            "line": {
             "colorbar": {
              "outlinewidth": 0,
              "ticks": ""
             }
            },
            "marker": {
             "colorbar": {
              "outlinewidth": 0,
              "ticks": ""
             }
            },
            "type": "scatter3d"
           }
          ],
          "scattercarpet": [
           {
            "marker": {
             "colorbar": {
              "outlinewidth": 0,
              "ticks": ""
             }
            },
            "type": "scattercarpet"
           }
          ],
          "scattergeo": [
           {
            "marker": {
             "colorbar": {
              "outlinewidth": 0,
              "ticks": ""
             }
            },
            "type": "scattergeo"
           }
          ],
          "scattergl": [
           {
            "marker": {
             "colorbar": {
              "outlinewidth": 0,
              "ticks": ""
             }
            },
            "type": "scattergl"
           }
          ],
          "scattermapbox": [
           {
            "marker": {
             "colorbar": {
              "outlinewidth": 0,
              "ticks": ""
             }
            },
            "type": "scattermapbox"
           }
          ],
          "scatterpolar": [
           {
            "marker": {
             "colorbar": {
              "outlinewidth": 0,
              "ticks": ""
             }
            },
            "type": "scatterpolar"
           }
          ],
          "scatterpolargl": [
           {
            "marker": {
             "colorbar": {
              "outlinewidth": 0,
              "ticks": ""
             }
            },
            "type": "scatterpolargl"
           }
          ],
          "scatterternary": [
           {
            "marker": {
             "colorbar": {
              "outlinewidth": 0,
              "ticks": ""
             }
            },
            "type": "scatterternary"
           }
          ],
          "surface": [
           {
            "colorbar": {
             "outlinewidth": 0,
             "ticks": ""
            },
            "colorscale": [
             [
              0,
              "#0d0887"
             ],
             [
              0.1111111111111111,
              "#46039f"
             ],
             [
              0.2222222222222222,
              "#7201a8"
             ],
             [
              0.3333333333333333,
              "#9c179e"
             ],
             [
              0.4444444444444444,
              "#bd3786"
             ],
             [
              0.5555555555555556,
              "#d8576b"
             ],
             [
              0.6666666666666666,
              "#ed7953"
             ],
             [
              0.7777777777777778,
              "#fb9f3a"
             ],
             [
              0.8888888888888888,
              "#fdca26"
             ],
             [
              1,
              "#f0f921"
             ]
            ],
            "type": "surface"
           }
          ],
          "table": [
           {
            "cells": {
             "fill": {
              "color": "#EBF0F8"
             },
             "line": {
              "color": "white"
             }
            },
            "header": {
             "fill": {
              "color": "#C8D4E3"
             },
             "line": {
              "color": "white"
             }
            },
            "type": "table"
           }
          ]
         },
         "layout": {
          "annotationdefaults": {
           "arrowcolor": "#2a3f5f",
           "arrowhead": 0,
           "arrowwidth": 1
          },
          "autotypenumbers": "strict",
          "coloraxis": {
           "colorbar": {
            "outlinewidth": 0,
            "ticks": ""
           }
          },
          "colorscale": {
           "diverging": [
            [
             0,
             "#8e0152"
            ],
            [
             0.1,
             "#c51b7d"
            ],
            [
             0.2,
             "#de77ae"
            ],
            [
             0.3,
             "#f1b6da"
            ],
            [
             0.4,
             "#fde0ef"
            ],
            [
             0.5,
             "#f7f7f7"
            ],
            [
             0.6,
             "#e6f5d0"
            ],
            [
             0.7,
             "#b8e186"
            ],
            [
             0.8,
             "#7fbc41"
            ],
            [
             0.9,
             "#4d9221"
            ],
            [
             1,
             "#276419"
            ]
           ],
           "sequential": [
            [
             0,
             "#0d0887"
            ],
            [
             0.1111111111111111,
             "#46039f"
            ],
            [
             0.2222222222222222,
             "#7201a8"
            ],
            [
             0.3333333333333333,
             "#9c179e"
            ],
            [
             0.4444444444444444,
             "#bd3786"
            ],
            [
             0.5555555555555556,
             "#d8576b"
            ],
            [
             0.6666666666666666,
             "#ed7953"
            ],
            [
             0.7777777777777778,
             "#fb9f3a"
            ],
            [
             0.8888888888888888,
             "#fdca26"
            ],
            [
             1,
             "#f0f921"
            ]
           ],
           "sequentialminus": [
            [
             0,
             "#0d0887"
            ],
            [
             0.1111111111111111,
             "#46039f"
            ],
            [
             0.2222222222222222,
             "#7201a8"
            ],
            [
             0.3333333333333333,
             "#9c179e"
            ],
            [
             0.4444444444444444,
             "#bd3786"
            ],
            [
             0.5555555555555556,
             "#d8576b"
            ],
            [
             0.6666666666666666,
             "#ed7953"
            ],
            [
             0.7777777777777778,
             "#fb9f3a"
            ],
            [
             0.8888888888888888,
             "#fdca26"
            ],
            [
             1,
             "#f0f921"
            ]
           ]
          },
          "colorway": [
           "#636efa",
           "#EF553B",
           "#00cc96",
           "#ab63fa",
           "#FFA15A",
           "#19d3f3",
           "#FF6692",
           "#B6E880",
           "#FF97FF",
           "#FECB52"
          ],
          "font": {
           "color": "#2a3f5f"
          },
          "geo": {
           "bgcolor": "white",
           "lakecolor": "white",
           "landcolor": "#E5ECF6",
           "showlakes": true,
           "showland": true,
           "subunitcolor": "white"
          },
          "hoverlabel": {
           "align": "left"
          },
          "hovermode": "closest",
          "mapbox": {
           "style": "light"
          },
          "paper_bgcolor": "white",
          "plot_bgcolor": "#E5ECF6",
          "polar": {
           "angularaxis": {
            "gridcolor": "white",
            "linecolor": "white",
            "ticks": ""
           },
           "bgcolor": "#E5ECF6",
           "radialaxis": {
            "gridcolor": "white",
            "linecolor": "white",
            "ticks": ""
           }
          },
          "scene": {
           "xaxis": {
            "backgroundcolor": "#E5ECF6",
            "gridcolor": "white",
            "gridwidth": 2,
            "linecolor": "white",
            "showbackground": true,
            "ticks": "",
            "zerolinecolor": "white"
           },
           "yaxis": {
            "backgroundcolor": "#E5ECF6",
            "gridcolor": "white",
            "gridwidth": 2,
            "linecolor": "white",
            "showbackground": true,
            "ticks": "",
            "zerolinecolor": "white"
           },
           "zaxis": {
            "backgroundcolor": "#E5ECF6",
            "gridcolor": "white",
            "gridwidth": 2,
            "linecolor": "white",
            "showbackground": true,
            "ticks": "",
            "zerolinecolor": "white"
           }
          },
          "shapedefaults": {
           "line": {
            "color": "#2a3f5f"
           }
          },
          "ternary": {
           "aaxis": {
            "gridcolor": "white",
            "linecolor": "white",
            "ticks": ""
           },
           "baxis": {
            "gridcolor": "white",
            "linecolor": "white",
            "ticks": ""
           },
           "bgcolor": "#E5ECF6",
           "caxis": {
            "gridcolor": "white",
            "linecolor": "white",
            "ticks": ""
           }
          },
          "title": {
           "x": 0.05
          },
          "xaxis": {
           "automargin": true,
           "gridcolor": "white",
           "linecolor": "white",
           "ticks": "",
           "title": {
            "standoff": 15
           },
           "zerolinecolor": "white",
           "zerolinewidth": 2
          },
          "yaxis": {
           "automargin": true,
           "gridcolor": "white",
           "linecolor": "white",
           "ticks": "",
           "title": {
            "standoff": 15
           },
           "zerolinecolor": "white",
           "zerolinewidth": 2
          }
         }
        }
       }
      },
      "text/html": [
       "<div>                            <div id=\"14e940ec-2a97-46df-a524-58241b860b31\" class=\"plotly-graph-div\" style=\"height:525px; width:100%;\"></div>            <script type=\"text/javascript\">                require([\"plotly\"], function(Plotly) {                    window.PLOTLYENV=window.PLOTLYENV || {};                                    if (document.getElementById(\"14e940ec-2a97-46df-a524-58241b860b31\")) {                    Plotly.newPlot(                        \"14e940ec-2a97-46df-a524-58241b860b31\",                        [{\"dimensions\":[{\"axis\":{\"matches\":true},\"label\":\"PC 1 (15.5%)\",\"values\":[3.393499812731599,0.5444863998577174,2.0393172119058636,2.5500272641036874,-4.097186815039338,3.0430308050389088,0.32483147611509705,-2.9829806284542295,1.1630144739328636,1.6712003071197654,-1.7743757455898914,-1.4801422730115614,0.9296205160997417,-2.8754358493487575,1.6339613561409383,1.286731767166977,2.602595412133553,-0.12112919299157081,3.582647431592954,-1.4718218246336883,2.3263941793457197,1.7031950493478478,2.558635648836395,0.24023588221449807,-1.6371433808319498,-3.923708954157435,-6.65565877845381,1.7697662425687617,-5.324393063139661,1.650461417757434,-3.6911909985715448,-2.2858822512246677,1.9214251199218837,-0.8214545888300311,4.53005362852902,-0.7735811661099263,4.837223216717283,-2.7999848668800165,1.2073266500393138,0.8814282922086007,-2.0257994537189226,-2.058396771044868,-2.537414366611294,1.0735788162352367,-3.9575783270192284,2.4496703347127116,-1.754015249158135,-1.1307522275595456,0.36767912256810387,-0.5928577420496136,2.2755350343990473,1.5660131808714464,-3.603757859766102,0.10718649751579216,2.419767406637309,-2.1087851831415176,-2.8291061740038375,-1.5327663927189779,5.208179527288286,3.774697164556722,5.634566259722438,-1.627506725090668,3.939536936303107,2.0800840205754154,-2.684859384462801,1.067456357676437,3.0340263192143655,1.6739175874356838,-1.3584392655521742,1.6059743897489656,1.5273716179741703,-3.2568385977644447,-1.766487133905486,1.1595673422323851,-1.5084874691791648,1.4634742024853626,-0.8475433371909884,-0.13180943478915794,-1.6767033321527478,1.1955292205105372,5.285560563203889,0.9610315940816777,-2.511141098819338,-4.414869836604874,2.923760351042115,-4.833564071758188,3.9456156603461534,-1.840424806926263,1.2335179963511818,3.402902990018201,2.402997106160044,0.09204891644408185,0.18948427758426087,-2.427751548655366,1.455621312248393,-3.0577079500862268,-2.1960994999500074,-3.8949135786522935,-2.2331175193479083,1.1478322548255608,-1.47769767583014,-2.9439552927000574,2.347186567125785,0.8566550376422019,-0.18706978780295208,0.28346074550720496,-4.302257591427084,1.3513391352402004,-2.999884722635887,-0.557691952731901,-1.4938662219045167,5.369054992267346,3.6078354948291405,4.326409121464609,-2.911872525657997,2.5188750823273094,1.0759820098446682,-4.686947750425595,-0.7162096071055567,-5.20885905880504,0.4725716551614932,-1.388704641854449,-1.8242481822200984,-1.0510177476834683,-1.3592692550518608,-1.3887162721864117,1.3362740643040787,0.8211732517321176,-0.8107810229979021,-0.08488648722203766,1.8535002213841227,-2.9614271838578907,-0.09558420531622255,-0.17123068710703807,-2.084528656731062,0.9026412526485004,-2.4541377577574015,1.6250846559218566,2.3597070862885055,-2.932770448998507,-2.062917511483319,2.625543350044113,2.132034557390168,3.602325587757126,-1.5473002125203517,-1.2910124085685653,-1.968690281722466,-4.2297092705991215,0.79977567100752,3.9038789689253135,-2.3866271422696483,2.823754758932696,0.8711503168723147,-5.259113075937967,1.113930239857599,-4.754146438090867,-1.138184472057469,-0.47921905406248017,-2.3987165435147557,7.168131695723374,-1.9246239674528418,1.5991733664010275,2.1886410653606325,-2.885646756802197,2.9632049399850766,4.092271250757814,1.0877963673767665,-0.913341006121529,0.7672321867152212,-5.939810988949492,-2.899624188543114,1.186170072816225,2.677876070592874,4.93495143336445,4.319528559328206,4.497752465977321,0.29790221229022684,3.605248465675389,-2.7982950183237842,-0.4921751742421003,-2.1316163931194874,1.5084312420080903,0.5188063839019044,-0.31444851582072547,-1.146329411464399,3.972726076001584,-0.9281448024579503,2.2650721195071015,0.43242984387697897,0.3263286781355771,-2.242960793714635,0.3336465650581032,2.5494374210827893,1.1117799983809165,2.715939041906108,0.35651053690368045,2.4303436963650964,3.7007041239590177,0.8766405198663414,2.59160616610592,-1.2087144189325312,6.817692840645167,-0.5384273501252145,-3.1402753413701716,-5.881104957859169,0.8636803907703821,-2.858153804284785,-0.7461803054276154,-0.2934075975168129,-1.235311234099018,1.0021498676796696,1.224788263409111,0.6415316949838944,3.4335208232227794,7.041200424672782,-1.965605356206301,0.7301660026463127,-0.6284165535952287,-4.790451962346221,-3.224866419815673,1.2178779044927177,-4.97164121427418,0.28151111083720987,0.38739655629795566,-2.455994029385151,5.902415799992717,1.6362122030578983,-2.3419624530466834,0.21531846883245642,0.2962615953605543,-1.1625691889370895,-1.5064469493312742,2.5505744364071394,-1.346300366970566,-3.599483084779589,0.1446721682331713,-3.5594126259087044,-1.3207917538297789,-4.29258122380478,3.4019426044052885,4.710748659229668,1.3488392813288976,-2.476071883939234,-3.999894919194061,0.36011156709857395,2.442627987384596,-3.5214456119768403,3.4027529205597,2.2991894103081143,1.7362207685316784,0.7816157000186582,-0.6272533121989642,5.5616994116209515,3.3683758625562064,2.4514111810823747,0.5011470074062466,-5.309755074565858,-2.1012941788384456,-1.4694675869828195,-1.971920754200385,-2.961392961675109,0.2191971870549407,2.2497651757906914,-3.8345637720076162,-1.9252578885228262,0.46159392528200427,1.118014188390912,-1.4739395952976297,-4.599508409998941,1.2394136198852026,2.8248521768779975,-0.08388141593928929,1.2684041196515632,-2.94447175756785,0.032524082801670996,-2.4539427812649675,-1.5644917635561295,0.02987468907494387,-2.2435727801235115,1.7052529159491412,-0.4425490882415879,2.493205808985047,-4.550392275555219,-0.009587831861442816,-0.9831551496391647,-0.08130869365493947,-4.4851340898115,0.11189196663630013,1.472403969506353,4.558959528740034,0.7052252226511798,0.8585378701136442,1.7205783026951305,3.3714505866115454,1.4712428339168748,2.2847807717448676,0.38979885229911804,-1.2351583476519834,1.633372620249679,0.484545967719597,1.885816430252884,-1.541299239358793,0.8317279788646418,-0.4895921325283085,0.46101494434152496,-0.3175933438466754,-3.238051658494065,-1.2358776870659773,4.569292345355997,0.24688244317808175,2.29775350340463,-1.5184862953355933,-0.42433429890490304,-2.6767689695608814,-1.7471090886991572,3.6485796468307363,3.4456851460430045,-1.526618023224541,-0.5621623943768113,2.1626314462662104,2.510015491654471,1.1389268378832833,0.5775884195512702,-0.9450093532961884,-1.3443511360915867,-3.2042967070946844,-0.31399729765227924,1.2548933409050265,0.29638933085041413,1.8033690715891693,-0.5597009058636432,-0.3751872482194668,-0.9097810137021828,-4.518542619222676,2.0293411551630123,1.2537862793984906,1.015291547690677,0.860268340193865,4.55464439351144,-2.3696433405375967,-4.986615622932391,-0.080052969585034,4.206301493894084,3.913139317670467,0.6011805241823797,3.9608761428986323,-2.4537770621943746,-2.7441318676898776,1.029505158444474,-4.803848000683085,0.1255370262506622,-2.5201402605988172,0.9832834249847776,1.0976704109345548,-4.381162027802364,-1.8325272153518453,-1.7792683233429438,2.3553222566266845,0.6569538677211291,1.1679090370849379,-2.4555411583965654,5.384109345836401,-4.115915912859858,-0.23930891281032626,-0.8096294779672776,-3.792342842690378,1.5337242636359905,4.504063211995987,1.093079747531392,-2.322228791877017,-1.703587066959046,-1.703886364686435,-2.1444416861826037,3.3168786906500296,-2.389807606383363,0.5810155823937664,-0.04094720835711593,1.0682172705858413,-3.8351588624674933,-0.19617496344105848,-0.568562624961913,0.16803688636392236,-4.401700862152101,-4.831314363700546,-0.7049783485189817,-1.3022396805956793,3.1543251405279324,-1.1800281414652884,-2.560380170167404,-1.0223983507304537,1.0930161809153391,-0.4938945457241714,0.696843186458782,2.5430032042405766,2.394784582396209,-2.010399780370894,2.5879367139085865,-2.775355953853322,-0.4929857107603238,3.6216081171884853]},{\"axis\":{\"matches\":true},\"label\":\"PC 2 (14.4%)\",\"values\":[-1.6597203042986464,1.900094419756892,2.3207223015358918,-2.202323671082998,-3.873059270667186,4.713344437137665,3.0624312878961555,-1.2255681455607899,2.1925073964045763,2.055468248035521,-1.661589578400376,0.6419633887423071,2.404748768990217,-4.227836880645708,2.3548038779709786,2.1537361113706823,2.895258067973797,1.9685682327187857,-0.4690191547380644,7.275018751454282,-3.283090662290449,-3.437705002760025,-4.958242216366312,-2.6597977984615544,-0.7395530790088062,0.5280290810999699,-0.06314435460618922,-3.8903772357610165,-2.4998820189633912,-0.12523483694068413,4.3695575818941315,2.067377993446135,0.5163851197179115,0.5216493781801557,1.1489155784163076,5.057706913499462,-1.760751324339905,-0.8462712101650038,-2.8295920549278932,1.2298936096897726,1.942724231047439,-2.3626411034022707,-1.8776312831012543,1.8033970418138674,2.1894321157165306,1.885877207258968,-1.1216039556760946,1.3370690987931093,1.3493921353527696,-2.4831051833340982,-2.412020133408979,-2.609146857856217,-0.6245173195884892,0.2684363848152579,0.7860445889726977,2.4232299686051855,-2.257132420849507,3.8683275751610053,2.0716599347394395,-0.3049038041657869,-0.024751199750708892,-1.337644833559509,1.1452232755695313,2.521733573826652,1.5026464089768998,-2.737653268104953,1.8841325503635582,0.5988646743912792,1.0781158545068414,1.8093577622137949,-1.1716151156521706,-0.36076043414521314,1.7202066678569938,-2.8078463685147157,0.19471259280698225,-3.0438190769118147,1.5434016694846806,6.028696775365389,-1.9315834052876661,-0.521126504365844,2.3868061541467163,1.0963001001347965,-1.9622733641060863,2.5184164165062484,-2.185533146718282,-0.8947561870809535,2.100654023776022,-2.39310629011231,-1.6182922791682253,-1.737468960430269,2.125810153032987,-1.877509600265991,-0.15142826325887737,2.9175757921463488,0.8088344297829004,4.16898733286055,6.07845954888623,-1.8694931935868309,1.8605073754372663,-1.295970664988021,-1.269627276688057,4.0927089260321505,-2.9498551070485544,1.9494571527914855,2.73080076419615,-3.2545023078111837,-0.34752898583737424,-1.8273396157002681,1.341763712729562,-0.72136021279424,-1.7971273933301997,-3.135487865729303,2.5927016799634686,1.3888104912108272,5.438211390376665,-2.7562411034900496,-9.121933366639297e-05,1.864123670876414,-1.970555250686784,1.6572754994473795,0.985875661989372,-0.41083673589620917,-1.6505235829221387,-3.358265209658501,0.9387064365495671,2.9678815074734675,-1.673953995933374,3.9222724935256448,3.4738723851196625,0.6569573187266128,0.22139061424848244,-0.9400251252263989,1.333452338385557,-5.281153205904541,0.21109066652379554,-1.3867865502952965,-1.2835674862346718,1.6513059568324957,-1.8523087328464871,-2.218790068442956,-2.896140992037817,-3.9575817200678167,-1.8342756336915504,3.893421171159272,-3.20466881250248,-0.20401911015335122,-2.8832465718122138,-1.8382055097414018,1.2715412247287305,-1.2061118344945783,-4.8348871314769735,0.04490593725336501,-1.1150094517829812,2.004146349014921,4.073165695063583,0.8477834622716259,2.926899485445293,-1.9793436550199435,-0.9172649676937183,1.3186655233384825,5.013670319486449,-3.1231776243167007,1.3592128599413988,-3.377349194453034,0.7117003470660702,-4.155730966016422,0.8020245157862155,-2.9880933788712105,1.1847696973365442,0.3559398036149269,0.6364604198312884,1.806309515237254,3.9839200386527853,1.6329426614701057,-0.5948362854948727,-1.1914635643157832,1.5197652809584328,-1.8519234998536138,-0.2717668366249904,-2.6923558544342048,5.175725938821462,0.43804576818768537,-1.9124223775813494,5.452438633209984,-2.619710511635487,-0.3337603413566678,4.3385291312038445,2.888722021133691,-6.269523205220484,0.7201508797720163,4.156450803764424,1.6313076910907423,-3.2422087228335883,-3.1994279313279286,-4.582715539552853,1.6123631960597824,-0.035050785606866905,-2.7426073478516426,-4.824836776009165,-6.041139613585084,0.017824342041323774,-1.726841254272899,1.273505901501867,-1.985291768705669,-1.7425767332770368,-2.5814030358793145,-2.2041321492852743,1.5545825203951191,3.357294387768671,-0.42559198921556385,0.6155223884616002,-0.5560726787178976,-1.763155775985324,-1.7323789419921956,0.06920750886885932,4.507056939999193,-2.0914282928437093,1.2775467834195633,-2.6529650655467187,-2.277618541653715,-0.21917202530371674,2.8822807612888486,2.6069931056132374,-0.07583651063056093,2.538134797113052,-3.0914747564704514,3.4525539325889683,-1.4241158209947786,-0.09602414856850232,2.7534658793342683,-1.1666583423793069,-1.9774532628413921,1.856992686517226,1.9879413948174414,-1.9794283052954902,-3.6011899337270945,-1.9719638060877234,-2.2277021202720824,0.8195220063221228,-2.962766182430293,0.7759084348676186,-0.42282161351949005,1.95877284348578,-5.065355727117901,3.9322182520950273,1.8201392532457794,2.5792521053583406,-0.37580621706979883,-2.9470301004921926,4.288062312412821,1.1715781925780706,3.984192189694396,0.30580130756260737,-0.5810322236377917,2.1359693566119824,0.6709280698153021,-0.7322528844646118,0.6671417166885031,-0.7058643156512029,-0.33463882982082827,-1.9994774399952668,-0.6343185812612542,-1.0933678138788268,-4.4495192661853515,1.6258038203506981,1.6600937088709509,3.4844708686634225,-1.3971458652795041,1.1729989636620954,-1.193603306654983,-0.41957184241233814,-1.2442098529056846,-3.831867370749738,4.355417176932266,0.7535184910776002,3.192188299288007,0.7749024725510557,3.5625806483843006,1.0975911357000085,4.858829218274756,-3.4005000101532064,1.2832392194813211,-0.7203514194394348,1.5296900965693812,2.774410943578154,-0.5503053200700118,-1.506359090885342,-2.638298537404098,2.6609636922769973,1.3337322749532292,-1.9791070208944386,-0.9885477141434966,3.735487538390149,4.139550703685598,-0.6746415055628197,0.009968965573044069,-2.2196584301408935,-1.3505255521498458,-2.1359464570602955,-3.314326544116912,2.743919544497011,1.1595898492624157,-1.2196761352829237,-1.690091471909345,-4.0924384374276945,-0.7712032125019571,-0.5218153385613807,-1.5822719461865067,2.000953801772166,3.6316927684732407,3.856644074458863,-2.172242532086919,2.1781371014045114,-0.3295903595411695,-2.9533663512579036,-0.7334777470054408,-2.539481216712287,-0.8290997904953716,-0.31211992638923225,1.3279646605443383,-1.5173065710122047,4.235207232834815,0.8878518011117845,1.5411553481275364,-4.012027936136445,3.6707091448204654,1.1730723857085454,-2.4876688185625704,1.972656406938699,-0.9902982258350205,-1.1115027618865687,-0.6078828383306848,-3.3024228795641286,3.1885797195151704,-2.59751635921758,-1.900882612213631,0.27959130199342075,0.43210625802006236,2.9859324592190424,-0.11122360227143198,-5.230373262229538,4.300932307749822,1.7463185259941543,-3.3074399722327934,6.894652376566745,1.8327989722743987,-3.859597124472507,-2.722532727341656,-0.3831917417339776,-1.3555475348932868,-0.9628890329884641,-0.04263179873803784,2.2077286635370394,5.350016291175965,0.10593456542123572,0.7330275731060822,-1.5366972737856563,-2.2153836962413016,4.640788778255693,2.8319409850288393,-2.1659488668892855,0.647499812265145,-0.23089050188335222,-2.5268910307663437,5.102375151181214,0.8406375356573793,4.2125554454896745,-1.7438053830685694,-0.791135348142703,-0.9093915345644417,-0.26273397562051914,4.461757754912508,0.7949640872041247,-2.2384391335643095,2.223231971533769,-1.688815153683093,-0.7316453246962261,0.12484474766421315,-2.17846915060807,-0.9294715402317413,-1.484450397097625,-1.9779091609427273,0.374629023287352,-1.0501185663592358,-1.8935498127967376,0.19640826772659487,-1.8787026938910054,-2.9770021604755943,1.1885438071864192,-3.3538404212898607,-4.42113684026868,-0.749416754455274,-4.065531294757457,1.9032583104868162,-4.421031091467032,-1.6893068461176348,0.33429852449153763,1.4230936031492811,-2.2861836845302617,1.265596448352533]}],\"hovertemplate\":\"%{xaxis.title.text}=%{x}<br>%{yaxis.title.text}=%{y}<br>color=%{marker.color}<extra></extra>\",\"legendgroup\":\"\",\"marker\":{\"color\":[-5.119238,9.322933,6.846969,-2.486741,-4.228758,8.676952,10.80651,7.862975,6.933912,7.335162,9.371486,-2.709909,6.656824,-1.383642,6.621367,-1.237612,7.634768,-4.610901,9.598338,7.321642,-1.182289,4.687752,0.2128525,-5.796957,5.665455,3.463113,-0.2658901,-1.751385,-3.529919,-0.3435402,6.797264,-0.2111168,5.767958,-4.854694,6.729472,6.743188,6.366825,5.060956,4.896063,10.34457,-5.562071,-4.817244,-0.1621666,-1.183552,6.284017,10.27789,-2.75284,5.733068,-1.262341,-2.895168,-2.851049,6.614317,-4.493204,9.16923,5.70782,-1.094099,-2.449299,-3.070711,6.242162,-4.692713,-0.0524044,-1.0541,6.188743,6.620581,-0.7512836,5.918286,7.988993,-3.297308,-4.819052,5.898955,5.953299,8.533127,-2.406563,5.530458,3.919582,-0.09306526,8.594308,6.858682,-1.796772,-5.443514,-0.7107468,5.922632,-4.511156,6.771462,-1.677998,-3.221655,7.37155,-0.1210136,-1.40415,7.654999,8.251637,5.476389,-1.561874,11.29633,9.790152,8.546931,6.805611,-6.493425,7.243856,5.332842,5.506973,-1.350765,-2.430939,6.422092,-0.5903702,-4.865044,-1.083824,-3.47463,10.60599,-1.917994,-3.946157,-5.868876,7.854228,8.069924,5.724058,-2.954966,5.90062,4.497777,-2.784153,-4.100586,8.870713,10.94347,-3.247633,-0.009717941,9.800485,6.532334,9.566547,9.086288,6.193618,-2.873798,-0.6906319,-6.048386,5.042585,-3.692461,-4.477638,5.878897,-3.488066,-2.206818,5.869928,4.827666,-1.402044,5.900744,-3.905321,10.59272,-0.9180984,5.856851,9.259684,-6.393686,7.799809,6.259969,-6.051693,6.945785,-4.767355,5.129569,-2.022758,-3.95417,6.28502,-6.585863,0.1689796,7.137681,7.896776,-1.386578,9.002474,-4.171051,6.469611,8.803595,-4.14654,-2.17388,10.97009,-3.117931,-0.831089,-1.829584,-0.2868996,6.620848,-0.3997803,-0.7575073,7.981008,6.779326,-1.541126,6.231582,11.19371,-1.526396,-5.169575,7.553341,-0.5996914,8.500427,6.098859,7.912075,-5.924782,-0.826416,9.855741,5.91862,-2.546824,5.560683,-5.020136,8.751208,7.004263,-1.113754,-5.585526,-3.845776,7.015656,-0.4918518,-2.667955,-3.867004,-6.672647,-2.461916,-3.058382,9.767697,6.645263,-1.479586,5.89952,-0.249918,6.34569,5.697006,6.416058,9.869337,-3.274603,8.825113,-7.243942,-6.593925,5.607295,-3.403231,6.093042,-4.305946,-4.387274,0.0002384186,9.559247,-1.933849,-0.08175278,6.220812,4.958618,-1.674875,-0.8697052,5.791516,-0.4501362,-5.925489,6.458732,5.261523,-1.810822,8.74981,10.75946,5.717454,-3.447483,-3.324215,6.307089,6.355306,6.537778,9.432687,-0.1838112,6.139962,6.448957,7.74188,6.756685,-0.1398544,6.721596,-0.7787132,-1.950151,5.661961,-5.886868,-5.52293,-5.640705,-1.987185,5.476546,-7.146511,7.455174,5.826826,6.177292,-6.671371,-4.693909,8.01368,-1.953501,-4.990343,5.464063,6.529441,-1.948807,6.435083,-4.585419,9.045945,7.50578,9.764422,-2.052588,7.325535,-6.709368,6.090033,5.776418,-5.864492,-0.5549908,-2.404247,5.995677,9.86982,5.797961,0.2641792,11.38764,11.03784,0.1214333,-2.730717,-2.711628,-5.682083,-2.805941,-2.40061,-0.1120071,-4.770304,-3.945282,4.716398,-5.370108,7.288422,-6.199598,6.346332,6.014645,6.003464,6.297805,-4.057997,5.960871,6.091156,-0.2577953,5.36105,-5.435562,5.405098,7.186265,8.891134,-2.976263,6.286551,10.14554,-2.867134,-2.759005,5.947707,5.395092,-0.615469,5.269746,-2.251976,-0.8098907,-4.166704,-2.410568,7.913034,-1.979645,-0.6452122,7.277163,-1.028984,6.263331,-6.671131,-7.239536,6.220227,6.291829,5.32416,6.826213,4.502273,4.732439,-1.338818,6.289331,-3.271051,-3.036654,6.074715,7.323742,7.601222,-4.647667,-1.692682,5.447844,-0.1205387,-0.6394444,-1.651123,-0.5330944,7.111973,8.762132,-2.139645,-1.101767,4.978916,7.432135,9.632286,7.763885,-1.132267,6.971564,5.971836,-1.426781,5.542027,-1.722408,5.866338,-0.2635937,6.412961,-6.213633,5.795676,8.248794,9.680395,9.496869,-1.302683,-1.732714,-1.02006,8.591331,5.168307,6.674723,-5.671749,-2.63085,-2.903948,4.681874,6.337814,-0.1841888,4.004949,8.235667,-1.734951,4.073147,9.647697],\"coloraxis\":\"coloraxis\",\"symbol\":\"circle\"},\"name\":\"\",\"showlegend\":false,\"type\":\"splom\",\"diagonal\":{\"visible\":false}}],                        {\"template\":{\"data\":{\"histogram2dcontour\":[{\"type\":\"histogram2dcontour\",\"colorbar\":{\"outlinewidth\":0,\"ticks\":\"\"},\"colorscale\":[[0.0,\"#0d0887\"],[0.1111111111111111,\"#46039f\"],[0.2222222222222222,\"#7201a8\"],[0.3333333333333333,\"#9c179e\"],[0.4444444444444444,\"#bd3786\"],[0.5555555555555556,\"#d8576b\"],[0.6666666666666666,\"#ed7953\"],[0.7777777777777778,\"#fb9f3a\"],[0.8888888888888888,\"#fdca26\"],[1.0,\"#f0f921\"]]}],\"choropleth\":[{\"type\":\"choropleth\",\"colorbar\":{\"outlinewidth\":0,\"ticks\":\"\"}}],\"histogram2d\":[{\"type\":\"histogram2d\",\"colorbar\":{\"outlinewidth\":0,\"ticks\":\"\"},\"colorscale\":[[0.0,\"#0d0887\"],[0.1111111111111111,\"#46039f\"],[0.2222222222222222,\"#7201a8\"],[0.3333333333333333,\"#9c179e\"],[0.4444444444444444,\"#bd3786\"],[0.5555555555555556,\"#d8576b\"],[0.6666666666666666,\"#ed7953\"],[0.7777777777777778,\"#fb9f3a\"],[0.8888888888888888,\"#fdca26\"],[1.0,\"#f0f921\"]]}],\"heatmap\":[{\"type\":\"heatmap\",\"colorbar\":{\"outlinewidth\":0,\"ticks\":\"\"},\"colorscale\":[[0.0,\"#0d0887\"],[0.1111111111111111,\"#46039f\"],[0.2222222222222222,\"#7201a8\"],[0.3333333333333333,\"#9c179e\"],[0.4444444444444444,\"#bd3786\"],[0.5555555555555556,\"#d8576b\"],[0.6666666666666666,\"#ed7953\"],[0.7777777777777778,\"#fb9f3a\"],[0.8888888888888888,\"#fdca26\"],[1.0,\"#f0f921\"]]}],\"heatmapgl\":[{\"type\":\"heatmapgl\",\"colorbar\":{\"outlinewidth\":0,\"ticks\":\"\"},\"colorscale\":[[0.0,\"#0d0887\"],[0.1111111111111111,\"#46039f\"],[0.2222222222222222,\"#7201a8\"],[0.3333333333333333,\"#9c179e\"],[0.4444444444444444,\"#bd3786\"],[0.5555555555555556,\"#d8576b\"],[0.6666666666666666,\"#ed7953\"],[0.7777777777777778,\"#fb9f3a\"],[0.8888888888888888,\"#fdca26\"],[1.0,\"#f0f921\"]]}],\"contourcarpet\":[{\"type\":\"contourcarpet\",\"colorbar\":{\"outlinewidth\":0,\"ticks\":\"\"}}],\"contour\":[{\"type\":\"contour\",\"colorbar\":{\"outlinewidth\":0,\"ticks\":\"\"},\"colorscale\":[[0.0,\"#0d0887\"],[0.1111111111111111,\"#46039f\"],[0.2222222222222222,\"#7201a8\"],[0.3333333333333333,\"#9c179e\"],[0.4444444444444444,\"#bd3786\"],[0.5555555555555556,\"#d8576b\"],[0.6666666666666666,\"#ed7953\"],[0.7777777777777778,\"#fb9f3a\"],[0.8888888888888888,\"#fdca26\"],[1.0,\"#f0f921\"]]}],\"surface\":[{\"type\":\"surface\",\"colorbar\":{\"outlinewidth\":0,\"ticks\":\"\"},\"colorscale\":[[0.0,\"#0d0887\"],[0.1111111111111111,\"#46039f\"],[0.2222222222222222,\"#7201a8\"],[0.3333333333333333,\"#9c179e\"],[0.4444444444444444,\"#bd3786\"],[0.5555555555555556,\"#d8576b\"],[0.6666666666666666,\"#ed7953\"],[0.7777777777777778,\"#fb9f3a\"],[0.8888888888888888,\"#fdca26\"],[1.0,\"#f0f921\"]]}],\"mesh3d\":[{\"type\":\"mesh3d\",\"colorbar\":{\"outlinewidth\":0,\"ticks\":\"\"}}],\"scatter\":[{\"fillpattern\":{\"fillmode\":\"overlay\",\"size\":10,\"solidity\":0.2},\"type\":\"scatter\"}],\"parcoords\":[{\"type\":\"parcoords\",\"line\":{\"colorbar\":{\"outlinewidth\":0,\"ticks\":\"\"}}}],\"scatterpolargl\":[{\"type\":\"scatterpolargl\",\"marker\":{\"colorbar\":{\"outlinewidth\":0,\"ticks\":\"\"}}}],\"bar\":[{\"error_x\":{\"color\":\"#2a3f5f\"},\"error_y\":{\"color\":\"#2a3f5f\"},\"marker\":{\"line\":{\"color\":\"#E5ECF6\",\"width\":0.5},\"pattern\":{\"fillmode\":\"overlay\",\"size\":10,\"solidity\":0.2}},\"type\":\"bar\"}],\"scattergeo\":[{\"type\":\"scattergeo\",\"marker\":{\"colorbar\":{\"outlinewidth\":0,\"ticks\":\"\"}}}],\"scatterpolar\":[{\"type\":\"scatterpolar\",\"marker\":{\"colorbar\":{\"outlinewidth\":0,\"ticks\":\"\"}}}],\"histogram\":[{\"marker\":{\"pattern\":{\"fillmode\":\"overlay\",\"size\":10,\"solidity\":0.2}},\"type\":\"histogram\"}],\"scattergl\":[{\"type\":\"scattergl\",\"marker\":{\"colorbar\":{\"outlinewidth\":0,\"ticks\":\"\"}}}],\"scatter3d\":[{\"type\":\"scatter3d\",\"line\":{\"colorbar\":{\"outlinewidth\":0,\"ticks\":\"\"}},\"marker\":{\"colorbar\":{\"outlinewidth\":0,\"ticks\":\"\"}}}],\"scattermapbox\":[{\"type\":\"scattermapbox\",\"marker\":{\"colorbar\":{\"outlinewidth\":0,\"ticks\":\"\"}}}],\"scatterternary\":[{\"type\":\"scatterternary\",\"marker\":{\"colorbar\":{\"outlinewidth\":0,\"ticks\":\"\"}}}],\"scattercarpet\":[{\"type\":\"scattercarpet\",\"marker\":{\"colorbar\":{\"outlinewidth\":0,\"ticks\":\"\"}}}],\"carpet\":[{\"aaxis\":{\"endlinecolor\":\"#2a3f5f\",\"gridcolor\":\"white\",\"linecolor\":\"white\",\"minorgridcolor\":\"white\",\"startlinecolor\":\"#2a3f5f\"},\"baxis\":{\"endlinecolor\":\"#2a3f5f\",\"gridcolor\":\"white\",\"linecolor\":\"white\",\"minorgridcolor\":\"white\",\"startlinecolor\":\"#2a3f5f\"},\"type\":\"carpet\"}],\"table\":[{\"cells\":{\"fill\":{\"color\":\"#EBF0F8\"},\"line\":{\"color\":\"white\"}},\"header\":{\"fill\":{\"color\":\"#C8D4E3\"},\"line\":{\"color\":\"white\"}},\"type\":\"table\"}],\"barpolar\":[{\"marker\":{\"line\":{\"color\":\"#E5ECF6\",\"width\":0.5},\"pattern\":{\"fillmode\":\"overlay\",\"size\":10,\"solidity\":0.2}},\"type\":\"barpolar\"}],\"pie\":[{\"automargin\":true,\"type\":\"pie\"}]},\"layout\":{\"autotypenumbers\":\"strict\",\"colorway\":[\"#636efa\",\"#EF553B\",\"#00cc96\",\"#ab63fa\",\"#FFA15A\",\"#19d3f3\",\"#FF6692\",\"#B6E880\",\"#FF97FF\",\"#FECB52\"],\"font\":{\"color\":\"#2a3f5f\"},\"hovermode\":\"closest\",\"hoverlabel\":{\"align\":\"left\"},\"paper_bgcolor\":\"white\",\"plot_bgcolor\":\"#E5ECF6\",\"polar\":{\"bgcolor\":\"#E5ECF6\",\"angularaxis\":{\"gridcolor\":\"white\",\"linecolor\":\"white\",\"ticks\":\"\"},\"radialaxis\":{\"gridcolor\":\"white\",\"linecolor\":\"white\",\"ticks\":\"\"}},\"ternary\":{\"bgcolor\":\"#E5ECF6\",\"aaxis\":{\"gridcolor\":\"white\",\"linecolor\":\"white\",\"ticks\":\"\"},\"baxis\":{\"gridcolor\":\"white\",\"linecolor\":\"white\",\"ticks\":\"\"},\"caxis\":{\"gridcolor\":\"white\",\"linecolor\":\"white\",\"ticks\":\"\"}},\"coloraxis\":{\"colorbar\":{\"outlinewidth\":0,\"ticks\":\"\"}},\"colorscale\":{\"sequential\":[[0.0,\"#0d0887\"],[0.1111111111111111,\"#46039f\"],[0.2222222222222222,\"#7201a8\"],[0.3333333333333333,\"#9c179e\"],[0.4444444444444444,\"#bd3786\"],[0.5555555555555556,\"#d8576b\"],[0.6666666666666666,\"#ed7953\"],[0.7777777777777778,\"#fb9f3a\"],[0.8888888888888888,\"#fdca26\"],[1.0,\"#f0f921\"]],\"sequentialminus\":[[0.0,\"#0d0887\"],[0.1111111111111111,\"#46039f\"],[0.2222222222222222,\"#7201a8\"],[0.3333333333333333,\"#9c179e\"],[0.4444444444444444,\"#bd3786\"],[0.5555555555555556,\"#d8576b\"],[0.6666666666666666,\"#ed7953\"],[0.7777777777777778,\"#fb9f3a\"],[0.8888888888888888,\"#fdca26\"],[1.0,\"#f0f921\"]],\"diverging\":[[0,\"#8e0152\"],[0.1,\"#c51b7d\"],[0.2,\"#de77ae\"],[0.3,\"#f1b6da\"],[0.4,\"#fde0ef\"],[0.5,\"#f7f7f7\"],[0.6,\"#e6f5d0\"],[0.7,\"#b8e186\"],[0.8,\"#7fbc41\"],[0.9,\"#4d9221\"],[1,\"#276419\"]]},\"xaxis\":{\"gridcolor\":\"white\",\"linecolor\":\"white\",\"ticks\":\"\",\"title\":{\"standoff\":15},\"zerolinecolor\":\"white\",\"automargin\":true,\"zerolinewidth\":2},\"yaxis\":{\"gridcolor\":\"white\",\"linecolor\":\"white\",\"ticks\":\"\",\"title\":{\"standoff\":15},\"zerolinecolor\":\"white\",\"automargin\":true,\"zerolinewidth\":2},\"scene\":{\"xaxis\":{\"backgroundcolor\":\"#E5ECF6\",\"gridcolor\":\"white\",\"linecolor\":\"white\",\"showbackground\":true,\"ticks\":\"\",\"zerolinecolor\":\"white\",\"gridwidth\":2},\"yaxis\":{\"backgroundcolor\":\"#E5ECF6\",\"gridcolor\":\"white\",\"linecolor\":\"white\",\"showbackground\":true,\"ticks\":\"\",\"zerolinecolor\":\"white\",\"gridwidth\":2},\"zaxis\":{\"backgroundcolor\":\"#E5ECF6\",\"gridcolor\":\"white\",\"linecolor\":\"white\",\"showbackground\":true,\"ticks\":\"\",\"zerolinecolor\":\"white\",\"gridwidth\":2}},\"shapedefaults\":{\"line\":{\"color\":\"#2a3f5f\"}},\"annotationdefaults\":{\"arrowcolor\":\"#2a3f5f\",\"arrowhead\":0,\"arrowwidth\":1},\"geo\":{\"bgcolor\":\"white\",\"landcolor\":\"#E5ECF6\",\"subunitcolor\":\"white\",\"showland\":true,\"showlakes\":true,\"lakecolor\":\"white\"},\"title\":{\"x\":0.05},\"mapbox\":{\"style\":\"light\"}}},\"coloraxis\":{\"colorbar\":{\"title\":{\"text\":\"color\"}},\"colorscale\":[[0.0,\"#0d0887\"],[0.1111111111111111,\"#46039f\"],[0.2222222222222222,\"#7201a8\"],[0.3333333333333333,\"#9c179e\"],[0.4444444444444444,\"#bd3786\"],[0.5555555555555556,\"#d8576b\"],[0.6666666666666666,\"#ed7953\"],[0.7777777777777778,\"#fb9f3a\"],[0.8888888888888888,\"#fdca26\"],[1.0,\"#f0f921\"]]},\"legend\":{\"tracegroupgap\":0},\"margin\":{\"t\":60},\"dragmode\":\"select\"},                        {\"responsive\": true}                    ).then(function(){\n",
       "                            \n",
       "var gd = document.getElementById('14e940ec-2a97-46df-a524-58241b860b31');\n",
       "var x = new MutationObserver(function (mutations, observer) {{\n",
       "        var display = window.getComputedStyle(gd).display;\n",
       "        if (!display || display === 'none') {{\n",
       "            console.log([gd, 'removed!']);\n",
       "            Plotly.purge(gd);\n",
       "            observer.disconnect();\n",
       "        }}\n",
       "}});\n",
       "\n",
       "// Listen for the removal of the full notebook cells\n",
       "var notebookContainer = gd.closest('#notebook-container');\n",
       "if (notebookContainer) {{\n",
       "    x.observe(notebookContainer, {childList: true});\n",
       "}}\n",
       "\n",
       "// Listen for the clearing of the current output cell\n",
       "var outputEl = gd.closest('.output');\n",
       "if (outputEl) {{\n",
       "    x.observe(outputEl, {childList: true});\n",
       "}}\n",
       "\n",
       "                        })                };                });            </script>        </div>"
      ]
     },
     "metadata": {},
     "output_type": "display_data"
    }
   ],
   "source": [
    "fig = px.scatter_matrix(\n",
    "    components,\n",
    "    labels=labels,\n",
    "    dimensions = range(2),\n",
    "    color=df['Stability']\n",
    ")\n",
    "fig.update_traces(diagonal_visible=False)\n",
    "fig.show()"
   ]
  },
  {
   "cell_type": "code",
   "execution_count": 260,
   "id": "866d9f0c",
   "metadata": {},
   "outputs": [],
   "source": [
    "X_train, X_test = df.iloc[:300, :-3], df.iloc[300:, :-3]\n",
    "Y_train, Y_test = df.iloc[:300, -1] > 90, df.iloc[300:, -1] > 90"
   ]
  },
  {
   "cell_type": "code",
   "execution_count": 261,
   "id": "3c8a499e",
   "metadata": {},
   "outputs": [
    {
     "data": {
      "text/html": [
       "<style>#sk-container-id-4 {color: black;background-color: white;}#sk-container-id-4 pre{padding: 0;}#sk-container-id-4 div.sk-toggleable {background-color: white;}#sk-container-id-4 label.sk-toggleable__label {cursor: pointer;display: block;width: 100%;margin-bottom: 0;padding: 0.3em;box-sizing: border-box;text-align: center;}#sk-container-id-4 label.sk-toggleable__label-arrow:before {content: \"▸\";float: left;margin-right: 0.25em;color: #696969;}#sk-container-id-4 label.sk-toggleable__label-arrow:hover:before {color: black;}#sk-container-id-4 div.sk-estimator:hover label.sk-toggleable__label-arrow:before {color: black;}#sk-container-id-4 div.sk-toggleable__content {max-height: 0;max-width: 0;overflow: hidden;text-align: left;background-color: #f0f8ff;}#sk-container-id-4 div.sk-toggleable__content pre {margin: 0.2em;color: black;border-radius: 0.25em;background-color: #f0f8ff;}#sk-container-id-4 input.sk-toggleable__control:checked~div.sk-toggleable__content {max-height: 200px;max-width: 100%;overflow: auto;}#sk-container-id-4 input.sk-toggleable__control:checked~label.sk-toggleable__label-arrow:before {content: \"▾\";}#sk-container-id-4 div.sk-estimator input.sk-toggleable__control:checked~label.sk-toggleable__label {background-color: #d4ebff;}#sk-container-id-4 div.sk-label input.sk-toggleable__control:checked~label.sk-toggleable__label {background-color: #d4ebff;}#sk-container-id-4 input.sk-hidden--visually {border: 0;clip: rect(1px 1px 1px 1px);clip: rect(1px, 1px, 1px, 1px);height: 1px;margin: -1px;overflow: hidden;padding: 0;position: absolute;width: 1px;}#sk-container-id-4 div.sk-estimator {font-family: monospace;background-color: #f0f8ff;border: 1px dotted black;border-radius: 0.25em;box-sizing: border-box;margin-bottom: 0.5em;}#sk-container-id-4 div.sk-estimator:hover {background-color: #d4ebff;}#sk-container-id-4 div.sk-parallel-item::after {content: \"\";width: 100%;border-bottom: 1px solid gray;flex-grow: 1;}#sk-container-id-4 div.sk-label:hover label.sk-toggleable__label {background-color: #d4ebff;}#sk-container-id-4 div.sk-serial::before {content: \"\";position: absolute;border-left: 1px solid gray;box-sizing: border-box;top: 0;bottom: 0;left: 50%;z-index: 0;}#sk-container-id-4 div.sk-serial {display: flex;flex-direction: column;align-items: center;background-color: white;padding-right: 0.2em;padding-left: 0.2em;position: relative;}#sk-container-id-4 div.sk-item {position: relative;z-index: 1;}#sk-container-id-4 div.sk-parallel {display: flex;align-items: stretch;justify-content: center;background-color: white;position: relative;}#sk-container-id-4 div.sk-item::before, #sk-container-id-4 div.sk-parallel-item::before {content: \"\";position: absolute;border-left: 1px solid gray;box-sizing: border-box;top: 0;bottom: 0;left: 50%;z-index: -1;}#sk-container-id-4 div.sk-parallel-item {display: flex;flex-direction: column;z-index: 1;position: relative;background-color: white;}#sk-container-id-4 div.sk-parallel-item:first-child::after {align-self: flex-end;width: 50%;}#sk-container-id-4 div.sk-parallel-item:last-child::after {align-self: flex-start;width: 50%;}#sk-container-id-4 div.sk-parallel-item:only-child::after {width: 0;}#sk-container-id-4 div.sk-dashed-wrapped {border: 1px dashed gray;margin: 0 0.4em 0.5em 0.4em;box-sizing: border-box;padding-bottom: 0.4em;background-color: white;}#sk-container-id-4 div.sk-label label {font-family: monospace;font-weight: bold;display: inline-block;line-height: 1.2em;}#sk-container-id-4 div.sk-label-container {text-align: center;}#sk-container-id-4 div.sk-container {/* jupyter's `normalize.less` sets `[hidden] { display: none; }` but bootstrap.min.css set `[hidden] { display: none !important; }` so we also need the `!important` here to be able to override the default hidden behavior on the sphinx rendered scikit-learn.org. See: https://github.com/scikit-learn/scikit-learn/issues/21755 */display: inline-block !important;position: relative;}#sk-container-id-4 div.sk-text-repr-fallback {display: none;}</style><div id=\"sk-container-id-4\" class=\"sk-top-container\"><div class=\"sk-text-repr-fallback\"><pre>LogisticRegression()</pre><b>In a Jupyter environment, please rerun this cell to show the HTML representation or trust the notebook. <br />On GitHub, the HTML representation is unable to render, please try loading this page with nbviewer.org.</b></div><div class=\"sk-container\" hidden><div class=\"sk-item\"><div class=\"sk-estimator sk-toggleable\"><input class=\"sk-toggleable__control sk-hidden--visually\" id=\"sk-estimator-id-4\" type=\"checkbox\" checked><label for=\"sk-estimator-id-4\" class=\"sk-toggleable__label sk-toggleable__label-arrow\">LogisticRegression</label><div class=\"sk-toggleable__content\"><pre>LogisticRegression()</pre></div></div></div></div></div>"
      ],
      "text/plain": [
       "LogisticRegression()"
      ]
     },
     "execution_count": 261,
     "metadata": {},
     "output_type": "execute_result"
    }
   ],
   "source": [
    "reg.fit(X_train, Y_train)"
   ]
  },
  {
   "cell_type": "code",
   "execution_count": 266,
   "id": "ff887a4b",
   "metadata": {},
   "outputs": [
    {
     "data": {
      "text/plain": [
       "83"
      ]
     },
     "execution_count": 266,
     "metadata": {},
     "output_type": "execute_result"
    }
   ],
   "source": [
    "sum(reg.predict(X_test) == Y_test)"
   ]
  },
  {
   "cell_type": "code",
   "execution_count": 267,
   "id": "b73ae72d",
   "metadata": {},
   "outputs": [
    {
     "name": "stderr",
     "output_type": "stream",
     "text": [
      "/Users/alanyu/opt/miniconda3/envs/rocket/lib/python3.9/site-packages/sklearn/base.py:450: UserWarning:\n",
      "\n",
      "X does not have valid feature names, but LogisticRegression was fitted with feature names\n",
      "\n"
     ]
    },
    {
     "data": {
      "text/plain": [
       "array([False])"
      ]
     },
     "execution_count": 267,
     "metadata": {},
     "output_type": "execute_result"
    }
   ],
   "source": [
    "reg.predict(np.array([[5,6,6,6,7,3,4,9]]))"
   ]
  },
  {
   "cell_type": "code",
   "execution_count": null,
   "id": "ef11b852",
   "metadata": {},
   "outputs": [],
   "source": []
  }
 ],
 "metadata": {
  "kernelspec": {
   "display_name": "Python 3 (ipykernel)",
   "language": "python",
   "name": "python3"
  },
  "language_info": {
   "codemirror_mode": {
    "name": "ipython",
    "version": 3
   },
   "file_extension": ".py",
   "mimetype": "text/x-python",
   "name": "python",
   "nbconvert_exporter": "python",
   "pygments_lexer": "ipython3",
   "version": "3.9.15"
  }
 },
 "nbformat": 4,
 "nbformat_minor": 5
}
