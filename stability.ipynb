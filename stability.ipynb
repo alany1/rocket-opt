{
 "cells": [
  {
   "cell_type": "code",
   "execution_count": 9,
   "id": "a080ff5a",
   "metadata": {},
   "outputs": [],
   "source": [
    "import numpy as np\n",
    "import pandas as pd\n",
    "from sklearn.linear_model import LogisticRegression as LR\n",
    "from tools import *"
   ]
  },
  {
   "cell_type": "code",
   "execution_count": 8,
   "id": "019a4453",
   "metadata": {},
   "outputs": [],
   "source": [
    "reg = LR()\n"
   ]
  },
  {
   "cell_type": "code",
   "execution_count": 10,
   "id": "ab75cc5f",
   "metadata": {},
   "outputs": [],
   "source": [
    "# Features\n",
    "# Span, Chord, Sweep, Tip (x2); weight, altitude, stability. \n",
    "# Interactions: later."
   ]
  },
  {
   "cell_type": "code",
   "execution_count": 11,
   "id": "3833b471",
   "metadata": {},
   "outputs": [],
   "source": [
    "import pickle"
   ]
  },
  {
   "cell_type": "code",
   "execution_count": 18,
   "id": "7b649648",
   "metadata": {},
   "outputs": [],
   "source": [
    "with open('sample_list.pkl', 'rb') as f:\n",
    "    D = pickle.load(f)"
   ]
  },
  {
   "cell_type": "code",
   "execution_count": 20,
   "id": "337c28f8",
   "metadata": {},
   "outputs": [
    {
     "data": {
      "text/plain": [
       "{0: {'S': {'Chord': 3.5440751827272674,\n",
       "   'Span': 6.638775017009367,\n",
       "   'SweepDistance': 8.180920957555733,\n",
       "   'TipChord': 9.549156885511586},\n",
       "  'B': {'Chord': 3.4927236420523937,\n",
       "   'Span': 5.4317468562500135,\n",
       "   'SweepDistance': 7.923990567948687,\n",
       "   'TipChord': 5.9599292463137035}},\n",
       " 1: {'S': {'Chord': 3.170323402876853,\n",
       "   'Span': 7.380974854039681,\n",
       "   'SweepDistance': 7.450514373067914,\n",
       "   'TipChord': 4.303605157526921},\n",
       "  'B': {'Chord': 4.246977994991026,\n",
       "   'Span': 5.190269556118241,\n",
       "   'SweepDistance': 8.162126923756784,\n",
       "   'TipChord': 6.965755051131775}},\n",
       " 2: {'S': {'Chord': 3.3781342613211556,\n",
       "   'Span': 6.992945043135771,\n",
       "   'SweepDistance': 3.5946781698761594,\n",
       "   'TipChord': 4.940205455711275},\n",
       "  'B': {'Chord': 6.077752616437885,\n",
       "   'Span': 8.332495141871734,\n",
       "   'SweepDistance': 9.692128522627021,\n",
       "   'TipChord': 4.339577515587498}}}"
      ]
     },
     "execution_count": 20,
     "metadata": {},
     "output_type": "execute_result"
    }
   ],
   "source": [
    "D"
   ]
  },
  {
   "cell_type": "code",
   "execution_count": null,
   "id": "c1ab2993",
   "metadata": {},
   "outputs": [],
   "source": []
  }
 ],
 "metadata": {
  "kernelspec": {
   "display_name": "Python 3 (ipykernel)",
   "language": "python",
   "name": "python3"
  },
  "language_info": {
   "codemirror_mode": {
    "name": "ipython",
    "version": 3
   },
   "file_extension": ".py",
   "mimetype": "text/x-python",
   "name": "python",
   "nbconvert_exporter": "python",
   "pygments_lexer": "ipython3",
   "version": "3.9.15"
  }
 },
 "nbformat": 4,
 "nbformat_minor": 5
}
