{
 "cells": [
  {
   "cell_type": "code",
   "execution_count": 68,
   "id": "73678567",
   "metadata": {},
   "outputs": [],
   "source": [
    "import numpy as np"
   ]
  },
  {
   "cell_type": "code",
   "execution_count": 32,
   "id": "e779f053",
   "metadata": {},
   "outputs": [],
   "source": [
    "def weight(chord, span, sweep, tip):\n",
    "    t = 0.25\n",
    "    p = 0.0975 #( lbs / in^3)\n",
    "    A = span * (chord + sweep) / 2\n",
    "    return p * t * A\n",
    "def totalWeight(chord, span, sweep, tip):\n",
    "    return 4 * weight(chord, span, sweep, tip)"
   ]
  },
  {
   "cell_type": "code",
   "execution_count": 61,
   "id": "eb2eeb4e",
   "metadata": {},
   "outputs": [],
   "source": [
    "totalWeight(8.603, 4.219, 5.337, 3.641)\n",
    "sustainer = {'Chord': 8.603, 'Span': 4.219, 'SweepDistance': 5.337, 'TipChord': 3.641}\n",
    "booster = {'Chord': 8.603, 'Span': 4.219, 'SweepDistance': 5.337, 'TipChord': 3.641}"
   ]
  },
  {
   "cell_type": "code",
   "execution_count": 85,
   "id": "b54f88ca",
   "metadata": {},
   "outputs": [],
   "source": [
    "TEMPLATE = 'Phoenix_TestLaunch_Sim.CDX1'\n",
    "SUSTAINER_BASE_WT = 23.8 # Verify later\n",
    "BOOSTER_BASE_WT = 60.5\n",
    "def createNewDesign(booster, sustainer, sustainer_weight, booster_weight):\n",
    "    '''\n",
    "    Create new design with booster & sustainer = {'Chord': -, 'Span': -, ...} and specified weight.\n",
    "    '''\n",
    "    with open(TEMPLATE) as f:\n",
    "        file = f.readlines()\n",
    "    SUSTAINERIDX = 42\n",
    "    BOOSTERIDX = 80\n",
    "\n",
    "    map_ = {'Chord': 2, 'Span': 3, 'SweepDistance': 4, 'TipChord': 5}\n",
    "    indent = file[SUSTAINERIDX+1].split('<')[0]\n",
    "    for x in map_:\n",
    "        file[map_[x] + SUSTAINERIDX] = (f\"{indent}<{x}>{sustainer[x]}</{x}>\\n\")\n",
    "        file[map_[x] + BOOSTERIDX] = (f\"{indent}<{x}>{booster[x]}</{x}>\\n\")\n",
    "    \n",
    "    SUSTAINERWT = 131\n",
    "    BOOSTERWT = 136\n",
    "    \n",
    "    wt_indent = file[SUSTAINERWT].split('<')[0]\n",
    "    file[SUSTAINERWT] = f\"{wt_indent}<SustainerLaunchWt>{sustainer_weight}</SustainerLaunchWt>\\n\"\n",
    "    file[BOOSTERWT] = f\"{wt_indent}<Booster1LaunchWt>{booster_weight}</Booster1LaunchWt>\\n\"\n",
    "    \n",
    "    return file"
   ]
  },
  {
   "cell_type": "code",
   "execution_count": 86,
   "id": "5bb8fac8",
   "metadata": {},
   "outputs": [],
   "source": [
    "def generateNewDesign(booster, sustainer, fname):\n",
    "    booster_weight = BOOSTER_BASE_WT + totalWeight(booster['Chord'], booster['Span'], booster['SweepDistance'], \n",
    "                                                      booster['TipChord'])\n",
    "    \n",
    "    sustainer_weight = SUSTAINER_BASE_WT + totalWeight(sustainer['Chord'], sustainer['Span'], sustainer['SweepDistance'], \n",
    "                                                      sustainer['TipChord'])\n",
    "    file = createNewDesign(booster, sustainer, sustainer_weight, booster_weight)\n",
    "    with open(fname, 'w') as f:\n",
    "        f.write(''.join(file))"
   ]
  },
  {
   "cell_type": "code",
   "execution_count": 87,
   "id": "5fc59c06",
   "metadata": {},
   "outputs": [],
   "source": [
    "with open('newdesign.CDX1', 'w') as f:\n",
    "    f.write(''.join(new))"
   ]
  },
  {
   "cell_type": "code",
   "execution_count": 67,
   "id": "a2a7a3e4",
   "metadata": {},
   "outputs": [],
   "source": [
    "generateNewDesign(booster, sustainer, 'samples/new')"
   ]
  },
  {
   "cell_type": "code",
   "execution_count": 88,
   "id": "b432a33f",
   "metadata": {},
   "outputs": [],
   "source": [
    "def sampleFixedBooster(booster, low, high, num):\n",
    "    for i in range(num):        \n",
    "        sustainer = {'Chord': np.random.uniform(low = low, high = high),\n",
    "                     'Span': np.random.uniform(low = low, high = high),\n",
    "                     'SweepDistance': np.random.uniform(low = low, high = high),\n",
    "                     'TipChord': np.random.uniform(low = low, high = high)}\n",
    "        \n",
    "        generateNewDesign(booster, sustainer, f\"samples/sample_{i}.CDX1\")"
   ]
  },
  {
   "cell_type": "code",
   "execution_count": 89,
   "id": "56ee5b6f",
   "metadata": {},
   "outputs": [],
   "source": [
    "sampleFixedBooster(booster, 2, 10, 100)"
   ]
  },
  {
   "cell_type": "code",
   "execution_count": null,
   "id": "476cdc0c",
   "metadata": {},
   "outputs": [],
   "source": []
  }
 ],
 "metadata": {
  "kernelspec": {
   "display_name": "Python 3 (ipykernel)",
   "language": "python",
   "name": "python3"
  },
  "language_info": {
   "codemirror_mode": {
    "name": "ipython",
    "version": 3
   },
   "file_extension": ".py",
   "mimetype": "text/x-python",
   "name": "python",
   "nbconvert_exporter": "python",
   "pygments_lexer": "ipython3",
   "version": "3.9.15"
  }
 },
 "nbformat": 4,
 "nbformat_minor": 5
}
